{
 "cells": [
  {
   "cell_type": "markdown",
   "metadata": {},
   "source": [
    "# **Modelo de Predicción**"
   ]
  },
  {
   "cell_type": "markdown",
   "metadata": {},
   "source": [
    "Vamos a probar varios de los modelos de ensamble a ver cual funciona mejor para nuestro problema de regresión:"
   ]
  },
  {
   "cell_type": "code",
   "execution_count": 61,
   "metadata": {},
   "outputs": [
    {
     "name": "stdout",
     "output_type": "stream",
     "text": [
      "The autoreload extension is already loaded. To reload it, use:\n",
      "  %reload_ext autoreload\n"
     ]
    }
   ],
   "source": [
    "%load_ext autoreload\n",
    "%autoreload 2\n",
    "\n",
    "import pandas as pd\n",
    "import pickle\n",
    "\n",
    "import warnings\n",
    "warnings.filterwarnings('ignore')\n",
    "\n",
    "import sys\n",
    "sys.path.append(\"../../../\")\n",
    "from src import funciones_problemas_regresion as fpr"
   ]
  },
  {
   "cell_type": "code",
   "execution_count": 62,
   "metadata": {},
   "outputs": [
    {
     "data": {
      "text/html": [
       "<div>\n",
       "<style scoped>\n",
       "    .dataframe tbody tr th:only-of-type {\n",
       "        vertical-align: middle;\n",
       "    }\n",
       "\n",
       "    .dataframe tbody tr th {\n",
       "        vertical-align: top;\n",
       "    }\n",
       "\n",
       "    .dataframe thead th {\n",
       "        text-align: right;\n",
       "    }\n",
       "</style>\n",
       "<table border=\"1\" class=\"dataframe\">\n",
       "  <thead>\n",
       "    <tr style=\"text-align: right;\">\n",
       "      <th></th>\n",
       "      <th>Profit</th>\n",
       "      <th>Country</th>\n",
       "      <th>Market</th>\n",
       "      <th>Sub-Category</th>\n",
       "      <th>Quantity</th>\n",
       "      <th>Discount</th>\n",
       "      <th>Shipping Cost</th>\n",
       "      <th>Ship Mode_First Class</th>\n",
       "      <th>Ship Mode_Same Day</th>\n",
       "      <th>Ship Mode_Second Class</th>\n",
       "      <th>Ship Mode_Standard Class</th>\n",
       "      <th>Segment_Consumer</th>\n",
       "      <th>Segment_Corporate</th>\n",
       "      <th>Segment_Home Office</th>\n",
       "      <th>Order Priority_Critical</th>\n",
       "      <th>Order Priority_High</th>\n",
       "      <th>Order Priority_Low</th>\n",
       "      <th>Order Priority_Medium</th>\n",
       "    </tr>\n",
       "  </thead>\n",
       "  <tbody>\n",
       "    <tr>\n",
       "      <th>0</th>\n",
       "      <td>190.9200</td>\n",
       "      <td>-1.254560</td>\n",
       "      <td>-0.946181</td>\n",
       "      <td>1.321801</td>\n",
       "      <td>1.0</td>\n",
       "      <td>0.0</td>\n",
       "      <td>14.502818</td>\n",
       "      <td>0.0</td>\n",
       "      <td>0.0</td>\n",
       "      <td>0.0</td>\n",
       "      <td>0.0</td>\n",
       "      <td>0.0</td>\n",
       "      <td>0.0</td>\n",
       "      <td>0.0</td>\n",
       "      <td>0.0</td>\n",
       "      <td>1.0</td>\n",
       "      <td>0.0</td>\n",
       "      <td>-1.0</td>\n",
       "    </tr>\n",
       "    <tr>\n",
       "      <th>1</th>\n",
       "      <td>45.9000</td>\n",
       "      <td>1.704839</td>\n",
       "      <td>-0.453514</td>\n",
       "      <td>1.321801</td>\n",
       "      <td>1.0</td>\n",
       "      <td>0.0</td>\n",
       "      <td>14.465614</td>\n",
       "      <td>0.0</td>\n",
       "      <td>0.0</td>\n",
       "      <td>1.0</td>\n",
       "      <td>-1.0</td>\n",
       "      <td>-1.0</td>\n",
       "      <td>1.0</td>\n",
       "      <td>0.0</td>\n",
       "      <td>0.0</td>\n",
       "      <td>1.0</td>\n",
       "      <td>0.0</td>\n",
       "      <td>-1.0</td>\n",
       "    </tr>\n",
       "    <tr>\n",
       "      <th>2</th>\n",
       "      <td>503.7822</td>\n",
       "      <td>0.000000</td>\n",
       "      <td>0.000000</td>\n",
       "      <td>10.307980</td>\n",
       "      <td>1.0</td>\n",
       "      <td>0.0</td>\n",
       "      <td>14.350620</td>\n",
       "      <td>0.0</td>\n",
       "      <td>0.0</td>\n",
       "      <td>0.0</td>\n",
       "      <td>0.0</td>\n",
       "      <td>-1.0</td>\n",
       "      <td>1.0</td>\n",
       "      <td>0.0</td>\n",
       "      <td>0.0</td>\n",
       "      <td>0.0</td>\n",
       "      <td>0.0</td>\n",
       "      <td>0.0</td>\n",
       "    </tr>\n",
       "    <tr>\n",
       "      <th>3</th>\n",
       "      <td>87.8400</td>\n",
       "      <td>1.144966</td>\n",
       "      <td>0.546486</td>\n",
       "      <td>0.118540</td>\n",
       "      <td>1.0</td>\n",
       "      <td>0.0</td>\n",
       "      <td>13.968433</td>\n",
       "      <td>0.0</td>\n",
       "      <td>1.0</td>\n",
       "      <td>0.0</td>\n",
       "      <td>-1.0</td>\n",
       "      <td>-1.0</td>\n",
       "      <td>0.0</td>\n",
       "      <td>1.0</td>\n",
       "      <td>1.0</td>\n",
       "      <td>0.0</td>\n",
       "      <td>0.0</td>\n",
       "      <td>-1.0</td>\n",
       "    </tr>\n",
       "    <tr>\n",
       "      <th>4</th>\n",
       "      <td>213.6600</td>\n",
       "      <td>1.704839</td>\n",
       "      <td>-0.453514</td>\n",
       "      <td>1.321801</td>\n",
       "      <td>1.0</td>\n",
       "      <td>0.0</td>\n",
       "      <td>13.910936</td>\n",
       "      <td>0.0</td>\n",
       "      <td>0.0</td>\n",
       "      <td>0.0</td>\n",
       "      <td>0.0</td>\n",
       "      <td>0.0</td>\n",
       "      <td>0.0</td>\n",
       "      <td>0.0</td>\n",
       "      <td>0.0</td>\n",
       "      <td>1.0</td>\n",
       "      <td>0.0</td>\n",
       "      <td>-1.0</td>\n",
       "    </tr>\n",
       "  </tbody>\n",
       "</table>\n",
       "</div>"
      ],
      "text/plain": [
       "     Profit   Country    Market  Sub-Category  Quantity  Discount  \\\n",
       "0  190.9200 -1.254560 -0.946181      1.321801       1.0       0.0   \n",
       "1   45.9000  1.704839 -0.453514      1.321801       1.0       0.0   \n",
       "2  503.7822  0.000000  0.000000     10.307980       1.0       0.0   \n",
       "3   87.8400  1.144966  0.546486      0.118540       1.0       0.0   \n",
       "4  213.6600  1.704839 -0.453514      1.321801       1.0       0.0   \n",
       "\n",
       "   Shipping Cost  Ship Mode_First Class  Ship Mode_Same Day  \\\n",
       "0      14.502818                    0.0                 0.0   \n",
       "1      14.465614                    0.0                 0.0   \n",
       "2      14.350620                    0.0                 0.0   \n",
       "3      13.968433                    0.0                 1.0   \n",
       "4      13.910936                    0.0                 0.0   \n",
       "\n",
       "   Ship Mode_Second Class  Ship Mode_Standard Class  Segment_Consumer  \\\n",
       "0                     0.0                       0.0               0.0   \n",
       "1                     1.0                      -1.0              -1.0   \n",
       "2                     0.0                       0.0              -1.0   \n",
       "3                     0.0                      -1.0              -1.0   \n",
       "4                     0.0                       0.0               0.0   \n",
       "\n",
       "   Segment_Corporate  Segment_Home Office  Order Priority_Critical  \\\n",
       "0                0.0                  0.0                      0.0   \n",
       "1                1.0                  0.0                      0.0   \n",
       "2                1.0                  0.0                      0.0   \n",
       "3                0.0                  1.0                      1.0   \n",
       "4                0.0                  0.0                      0.0   \n",
       "\n",
       "   Order Priority_High  Order Priority_Low  Order Priority_Medium  \n",
       "0                  1.0                 0.0                   -1.0  \n",
       "1                  1.0                 0.0                   -1.0  \n",
       "2                  0.0                 0.0                    0.0  \n",
       "3                  0.0                 0.0                   -1.0  \n",
       "4                  1.0                 0.0                   -1.0  "
      ]
     },
     "execution_count": 62,
     "metadata": {},
     "output_type": "execute_result"
    }
   ],
   "source": [
    "df =  pd.read_pickle(\"../../../datos/cluster_0/df_nonulls_encoded_sinout_scaled.pkl\").reset_index(drop=True)\n",
    "variable_respuesta = \"Profit\"\n",
    "\n",
    "df.head()"
   ]
  },
  {
   "cell_type": "code",
   "execution_count": 63,
   "metadata": {},
   "outputs": [],
   "source": [
    "#df = df.drop(columns=[\"Ship Mode_First Class\", \"Ship Mode_Same Day\",\"Ship Mode_Second Class\", \"Ship Mode_Standard Class\", \"Segment_Consumer\", \"Segment_Corporate\", \"Segment_Home Office\", \"Order Priority_Critical\", \"Order Priority_High\",\t\"Order Priority_Low\",\"Order Priority_Medium\"])"
   ]
  },
  {
   "cell_type": "markdown",
   "metadata": {},
   "source": [
    "Probaremos varios modelos de ensamble y compararemos sus métricas a ver cual es el que arroja mejores resultados."
   ]
  },
  {
   "cell_type": "markdown",
   "metadata": {},
   "source": [
    "## Random Forest Regressor"
   ]
  },
  {
   "cell_type": "code",
   "execution_count": 64,
   "metadata": {},
   "outputs": [
    {
     "name": "stdout",
     "output_type": "stream",
     "text": [
      "Calculando el modelo con RandomForestRegressor...\n",
      "Las mejores métricas para el modelo de DecisionTreeRegressor son:\n",
      "{'max_depth': 15, 'max_leaf_nodes': 300, 'min_samples_leaf': 15, 'min_samples_split': 15, 'n_estimators': 150}\n"
     ]
    },
    {
     "data": {
      "text/html": [
       "<div>\n",
       "<style scoped>\n",
       "    .dataframe tbody tr th:only-of-type {\n",
       "        vertical-align: middle;\n",
       "    }\n",
       "\n",
       "    .dataframe tbody tr th {\n",
       "        vertical-align: top;\n",
       "    }\n",
       "\n",
       "    .dataframe thead th {\n",
       "        text-align: right;\n",
       "    }\n",
       "</style>\n",
       "<table border=\"1\" class=\"dataframe\">\n",
       "  <thead>\n",
       "    <tr style=\"text-align: right;\">\n",
       "      <th></th>\n",
       "      <th>r2_scores</th>\n",
       "      <th>MAE</th>\n",
       "      <th>MSE</th>\n",
       "      <th>RMSE</th>\n",
       "    </tr>\n",
       "  </thead>\n",
       "  <tbody>\n",
       "    <tr>\n",
       "      <th>train</th>\n",
       "      <td>0.528250</td>\n",
       "      <td>14.843349</td>\n",
       "      <td>1404.531759</td>\n",
       "      <td>37.477083</td>\n",
       "    </tr>\n",
       "    <tr>\n",
       "      <th>test</th>\n",
       "      <td>0.491978</td>\n",
       "      <td>15.639328</td>\n",
       "      <td>1419.210935</td>\n",
       "      <td>37.672416</td>\n",
       "    </tr>\n",
       "  </tbody>\n",
       "</table>\n",
       "</div>"
      ],
      "text/plain": [
       "       r2_scores        MAE          MSE       RMSE\n",
       "train   0.528250  14.843349  1404.531759  37.477083\n",
       "test    0.491978  15.639328  1419.210935  37.672416"
      ]
     },
     "execution_count": 64,
     "metadata": {},
     "output_type": "execute_result"
    }
   ],
   "source": [
    "variable_respuesta = \"Profit\"\n",
    "modelo = \"RandomForestRegressor\"\n",
    "\n",
    "# Inicializamos la clase, separamos VR y VD y separamos el train y el test.\n",
    "clase_arbol = fpr.ProblemaRegresion(df, variable_respuesta, modelo)\n",
    "clase_arbol.separar_variables()\n",
    "clase_arbol.separar_train_test()\n",
    "\n",
    "# Estudiamos cuales son los mejores parámetros, entrenamos al modelo y vemos las métricas.\n",
    "params_rf = {\n",
    "    'n_estimators': [50, 100, 150], #número de árboles que queremos en el bosque\n",
    "    'max_depth': [15, 20, 30],\n",
    "    'min_samples_split': [15, 20, 25],\n",
    "    'min_samples_leaf': [15, 20, 25], \n",
    "    'max_leaf_nodes': [100, 200, 300]\n",
    "}\n",
    "\n",
    "df_metricas, modelo_random_forest_1 = clase_arbol.grid_search(params_rf, cv=3)\n",
    "df_metricas"
   ]
  },
  {
   "cell_type": "code",
   "execution_count": 65,
   "metadata": {},
   "outputs": [
    {
     "data": {
      "image/png": "[encoded data removed]",
      "text/plain": [
       "<Figure size 640x480 with 1 Axes>"
      ]
     },
     "metadata": {},
     "output_type": "display_data"
    }
   ],
   "source": [
    "clase_arbol.visualizacion_residuos()"
   ]
  },
  {
   "cell_type": "markdown",
   "metadata": {},
   "source": [
    "Pordemos observar que a penas hay overfitting y el RMSE de 37 para un profit que varía entre -1000 y 2000 está bien, podemos ver que dondemás se confunde es en los valores más extremos, pues es de los que menos datos tiene para aprender."
   ]
  },
  {
   "cell_type": "markdown",
   "metadata": {},
   "source": [
    "## Gradient Boosting Regressor"
   ]
  },
  {
   "cell_type": "code",
   "execution_count": 66,
   "metadata": {},
   "outputs": [
    {
     "name": "stdout",
     "output_type": "stream",
     "text": [
      "Calculando el modelo con GradientBoostingRegressor...\n",
      "Las mejores métricas para el modelo de DecisionTreeRegressor son:\n",
      "{'max_depth': 20, 'max_leaf_nodes': 100, 'min_samples_leaf': 25, 'min_samples_split': 15, 'n_estimators': 50}\n"
     ]
    },
    {
     "data": {
      "text/html": [
       "<div>\n",
       "<style scoped>\n",
       "    .dataframe tbody tr th:only-of-type {\n",
       "        vertical-align: middle;\n",
       "    }\n",
       "\n",
       "    .dataframe tbody tr th {\n",
       "        vertical-align: top;\n",
       "    }\n",
       "\n",
       "    .dataframe thead th {\n",
       "        text-align: right;\n",
       "    }\n",
       "</style>\n",
       "<table border=\"1\" class=\"dataframe\">\n",
       "  <thead>\n",
       "    <tr style=\"text-align: right;\">\n",
       "      <th></th>\n",
       "      <th>r2_scores</th>\n",
       "      <th>MAE</th>\n",
       "      <th>MSE</th>\n",
       "      <th>RMSE</th>\n",
       "    </tr>\n",
       "  </thead>\n",
       "  <tbody>\n",
       "    <tr>\n",
       "      <th>train</th>\n",
       "      <td>0.643640</td>\n",
       "      <td>13.664251</td>\n",
       "      <td>1060.984027</td>\n",
       "      <td>32.572750</td>\n",
       "    </tr>\n",
       "    <tr>\n",
       "      <th>test</th>\n",
       "      <td>0.502411</td>\n",
       "      <td>15.655249</td>\n",
       "      <td>1390.066017</td>\n",
       "      <td>37.283589</td>\n",
       "    </tr>\n",
       "  </tbody>\n",
       "</table>\n",
       "</div>"
      ],
      "text/plain": [
       "       r2_scores        MAE          MSE       RMSE\n",
       "train   0.643640  13.664251  1060.984027  32.572750\n",
       "test    0.502411  15.655249  1390.066017  37.283589"
      ]
     },
     "execution_count": 66,
     "metadata": {},
     "output_type": "execute_result"
    }
   ],
   "source": [
    "modelo = \"GradientBoostingRegressor\"\n",
    "\n",
    "# Inicializamos la clase, separamos VR y VD y separamos el train y el test.\n",
    "clase_arbol = fpr.ProblemaRegresion(df, variable_respuesta, modelo)\n",
    "clase_arbol.separar_variables()\n",
    "clase_arbol.separar_train_test()\n",
    "\n",
    "# Estudiamos cuales son los mejores parámetros, entrenamos al modelo y vemos las métricas.\n",
    "params_rf = {\n",
    "    'n_estimators': [50, 100, 150], #número de árboles que queremos en el bosque\n",
    "    'max_depth': [15, 20, 30],\n",
    "    'min_samples_split': [15, 20, 25],\n",
    "    'min_samples_leaf': [15, 20, 25], \n",
    "    'max_leaf_nodes': [100, 200, 300]\n",
    "}\n",
    "\n",
    "df_metricas, modelo_grad_boosting_1 = clase_arbol.grid_search(params_rf, cv=3)\n",
    "df_metricas"
   ]
  },
  {
   "cell_type": "markdown",
   "metadata": {},
   "source": [
    "## XGBRegressor"
   ]
  },
  {
   "cell_type": "code",
   "execution_count": 67,
   "metadata": {},
   "outputs": [
    {
     "name": "stdout",
     "output_type": "stream",
     "text": [
      "Calculando el modelo con XGBRegressor...\n",
      "Las mejores métricas para el modelo de DecisionTreeRegressor son:\n",
      "{'colsample_bytree': 0.8, 'learning_rate': 0.1, 'max_depth': 5, 'min_child_weight': 3, 'n_estimators': 65, 'subsample': 1.0}\n"
     ]
    },
    {
     "data": {
      "text/html": [
       "<div>\n",
       "<style scoped>\n",
       "    .dataframe tbody tr th:only-of-type {\n",
       "        vertical-align: middle;\n",
       "    }\n",
       "\n",
       "    .dataframe tbody tr th {\n",
       "        vertical-align: top;\n",
       "    }\n",
       "\n",
       "    .dataframe thead th {\n",
       "        text-align: right;\n",
       "    }\n",
       "</style>\n",
       "<table border=\"1\" class=\"dataframe\">\n",
       "  <thead>\n",
       "    <tr style=\"text-align: right;\">\n",
       "      <th></th>\n",
       "      <th>r2_scores</th>\n",
       "      <th>MAE</th>\n",
       "      <th>MSE</th>\n",
       "      <th>RMSE</th>\n",
       "    </tr>\n",
       "  </thead>\n",
       "  <tbody>\n",
       "    <tr>\n",
       "      <th>train</th>\n",
       "      <td>0.654057</td>\n",
       "      <td>15.068271</td>\n",
       "      <td>1029.967972</td>\n",
       "      <td>32.093114</td>\n",
       "    </tr>\n",
       "    <tr>\n",
       "      <th>test</th>\n",
       "      <td>0.535571</td>\n",
       "      <td>15.864066</td>\n",
       "      <td>1297.429759</td>\n",
       "      <td>36.019852</td>\n",
       "    </tr>\n",
       "  </tbody>\n",
       "</table>\n",
       "</div>"
      ],
      "text/plain": [
       "       r2_scores        MAE          MSE       RMSE\n",
       "train   0.654057  15.068271  1029.967972  32.093114\n",
       "test    0.535571  15.864066  1297.429759  36.019852"
      ]
     },
     "execution_count": 67,
     "metadata": {},
     "output_type": "execute_result"
    }
   ],
   "source": [
    "modelo = \"XGBRegressor\"\n",
    "\n",
    "# Inicializamos la clase, separamos VR y VD y separamos el train y el test.\n",
    "clase_arbol = fpr.ProblemaRegresion(df, variable_respuesta, modelo)\n",
    "clase_arbol.separar_variables()\n",
    "clase_arbol.separar_train_test()\n",
    "\n",
    "# Estudiamos cuales son los mejores parámetros, entrenamos al modelo y vemos las métricas.\n",
    "params_xgb = {\n",
    "    'n_estimators': [60, 65, 70],\n",
    "    'learning_rate': [0.01, 0.1, 0.2],\n",
    "    'max_depth': [3, 4, 5],\n",
    "    'min_child_weight':  [3, 4, 5, 6],  # Equivalente a min_samples_leaf\n",
    "    'subsample': [0.8, 1.0],        # Para evitar sobreajuste\n",
    "    'colsample_bytree': [0.8, 1.0]  # Selección de columnas al construir cada árbol\n",
    "}\n",
    "\n",
    "df_metricas, modelo_xgb = clase_arbol.grid_search(params_xgb, cv=5)\n",
    "df_metricas"
   ]
  },
  {
   "cell_type": "code",
   "execution_count": 68,
   "metadata": {},
   "outputs": [
    {
     "name": "stdout",
     "output_type": "stream",
     "text": [
      "Calculando el modelo con XGBRegressor...\n",
      "Las mejores métricas para el modelo de DecisionTreeRegressor son:\n",
      "{'colsample_bytree': 1.0, 'learning_rate': 0.1, 'max_depth': 5, 'min_child_weight': 2, 'n_estimators': 75, 'subsample': 1.0}\n"
     ]
    },
    {
     "data": {
      "text/html": [
       "<div>\n",
       "<style scoped>\n",
       "    .dataframe tbody tr th:only-of-type {\n",
       "        vertical-align: middle;\n",
       "    }\n",
       "\n",
       "    .dataframe tbody tr th {\n",
       "        vertical-align: top;\n",
       "    }\n",
       "\n",
       "    .dataframe thead th {\n",
       "        text-align: right;\n",
       "    }\n",
       "</style>\n",
       "<table border=\"1\" class=\"dataframe\">\n",
       "  <thead>\n",
       "    <tr style=\"text-align: right;\">\n",
       "      <th></th>\n",
       "      <th>r2_scores</th>\n",
       "      <th>MAE</th>\n",
       "      <th>MSE</th>\n",
       "      <th>RMSE</th>\n",
       "    </tr>\n",
       "  </thead>\n",
       "  <tbody>\n",
       "    <tr>\n",
       "      <th>train</th>\n",
       "      <td>0.709306</td>\n",
       "      <td>14.396381</td>\n",
       "      <td>865.476666</td>\n",
       "      <td>29.418985</td>\n",
       "    </tr>\n",
       "    <tr>\n",
       "      <th>test</th>\n",
       "      <td>0.523755</td>\n",
       "      <td>15.730595</td>\n",
       "      <td>1330.440277</td>\n",
       "      <td>36.475201</td>\n",
       "    </tr>\n",
       "  </tbody>\n",
       "</table>\n",
       "</div>"
      ],
      "text/plain": [
       "       r2_scores        MAE          MSE       RMSE\n",
       "train   0.709306  14.396381   865.476666  29.418985\n",
       "test    0.523755  15.730595  1330.440277  36.475201"
      ]
     },
     "execution_count": 68,
     "metadata": {},
     "output_type": "execute_result"
    }
   ],
   "source": [
    "modelo = \"XGBRegressor\"\n",
    "\n",
    "# Inicializamos la clase, separamos VR y VD y separamos el train y el test.\n",
    "clase_arbol = fpr.ProblemaRegresion(df, variable_respuesta, modelo)\n",
    "clase_arbol.separar_variables()\n",
    "clase_arbol.separar_train_test()\n",
    "\n",
    "# Estudiamos cuales son los mejores parámetros, entrenamos al modelo y vemos las métricas.\n",
    "params_xgb = {\n",
    "    'n_estimators': [60, 65, 70, 75],\n",
    "    'learning_rate': [0.01, 0.1, 0.2],\n",
    "    'max_depth': [4, 5, 6, 7],\n",
    "    'min_child_weight':  [2, 3, 4, 5],  # Equivalente a min_samples_leaf\n",
    "    'subsample': [0.8, 1.0],        # Para evitar sobreajuste\n",
    "    'colsample_bytree': [0.8, 1.0]  # Selección de columnas al construir cada árbol\n",
    "}\n",
    "\n",
    "df_metricas, modelo_xgb = clase_arbol.grid_search(params_xgb, cv=5)\n",
    "df_metricas"
   ]
  },
  {
   "cell_type": "markdown",
   "metadata": {},
   "source": [
    "Las métrcas de train han mejorado, sin embargo, esto se debe a que comienza a haber más overfitting."
   ]
  },
  {
   "cell_type": "code",
   "execution_count": 69,
   "metadata": {},
   "outputs": [
    {
     "data": {
      "image/png": "[encoded data removed]",
      "text/plain": [
       "<Figure size 640x480 with 1 Axes>"
      ]
     },
     "metadata": {},
     "output_type": "display_data"
    }
   ],
   "source": [
    "clase_arbol.importancias_variables()"
   ]
  },
  {
   "cell_type": "code",
   "execution_count": null,
   "metadata": {},
   "outputs": [],
   "source": []
  }
 ],
 "metadata": {
  "kernelspec": {
   "display_name": "Python 3",
   "language": "python",
   "name": "python3"
  },
  "language_info": {
   "codemirror_mode": {
    "name": "ipython",
    "version": 3
   },
   "file_extension": ".py",
   "mimetype": "text/x-python",
   "name": "python",
   "nbconvert_exporter": "python",
   "pygments_lexer": "ipython3",
   "version": "3.11.9"
  }
 },
 "nbformat": 4,
 "nbformat_minor": 2
}
