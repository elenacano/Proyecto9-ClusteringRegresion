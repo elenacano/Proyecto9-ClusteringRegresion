{
 "cells": [
  {
   "cell_type": "markdown",
   "metadata": {},
   "source": [
    "# **Clustering**"
   ]
  },
  {
   "cell_type": "markdown",
   "metadata": {},
   "source": [
    "El primer paso es realizar un análisis de segmentación para agrupar clientes o productos según características clave."
   ]
  },
  {
   "cell_type": "code",
   "execution_count": 1,
   "metadata": {},
   "outputs": [],
   "source": [
    "%load_ext autoreload\n",
    "%autoreload 2\n",
    "\n",
    "\n",
    "# -----------------------------------------------------------------------\n",
    "import numpy as np\n",
    "import pandas as pd\n",
    "\n",
    "\n",
    "import warnings\n",
    "warnings.filterwarnings('ignore')\n",
    "\n",
    "import sys\n",
    "\n",
    "sys.path.append(\"../../\")\n",
    "from src import funciones_eda as fe\n",
    "from src import soporte_clustering as sc\n",
    "from src import funciones_encoding as fen\n",
    "from src import funciones_outliers as fo\n",
    "from src import funciones_estandarizacion as fes\n",
    "\n",
    "pd.set_option(\"display.max_columns\", None)"
   ]
  },
  {
   "cell_type": "code",
   "execution_count": 2,
   "metadata": {},
   "outputs": [
    {
     "data": {
      "text/html": [
       "<div>\n",
       "<style scoped>\n",
       "    .dataframe tbody tr th:only-of-type {\n",
       "        vertical-align: middle;\n",
       "    }\n",
       "\n",
       "    .dataframe tbody tr th {\n",
       "        vertical-align: top;\n",
       "    }\n",
       "\n",
       "    .dataframe thead th {\n",
       "        text-align: right;\n",
       "    }\n",
       "</style>\n",
       "<table border=\"1\" class=\"dataframe\">\n",
       "  <thead>\n",
       "    <tr style=\"text-align: right;\">\n",
       "      <th></th>\n",
       "      <th>Row ID</th>\n",
       "      <th>Order ID</th>\n",
       "      <th>Order Date</th>\n",
       "      <th>Ship Date</th>\n",
       "      <th>Ship Mode</th>\n",
       "      <th>Customer ID</th>\n",
       "      <th>Customer Name</th>\n",
       "      <th>Segment</th>\n",
       "      <th>City</th>\n",
       "      <th>State</th>\n",
       "      <th>Country</th>\n",
       "      <th>Postal Code</th>\n",
       "      <th>Market</th>\n",
       "      <th>Region</th>\n",
       "      <th>Product ID</th>\n",
       "      <th>Category</th>\n",
       "      <th>Sub-Category</th>\n",
       "      <th>Product Name</th>\n",
       "      <th>Sales</th>\n",
       "      <th>Quantity</th>\n",
       "      <th>Discount</th>\n",
       "      <th>Profit</th>\n",
       "      <th>Shipping Cost</th>\n",
       "      <th>Order Priority</th>\n",
       "    </tr>\n",
       "  </thead>\n",
       "  <tbody>\n",
       "    <tr>\n",
       "      <th>0</th>\n",
       "      <td>32298</td>\n",
       "      <td>CA-2012-124891</td>\n",
       "      <td>31-07-2012</td>\n",
       "      <td>31-07-2012</td>\n",
       "      <td>Same Day</td>\n",
       "      <td>RH-19495</td>\n",
       "      <td>Rick Hansen</td>\n",
       "      <td>Consumer</td>\n",
       "      <td>New York City</td>\n",
       "      <td>New York</td>\n",
       "      <td>United States</td>\n",
       "      <td>10024.0</td>\n",
       "      <td>US</td>\n",
       "      <td>East</td>\n",
       "      <td>TEC-AC-10003033</td>\n",
       "      <td>Technology</td>\n",
       "      <td>Accessories</td>\n",
       "      <td>Plantronics CS510 - Over-the-Head monaural Wir...</td>\n",
       "      <td>2309.650</td>\n",
       "      <td>7</td>\n",
       "      <td>0.0</td>\n",
       "      <td>762.1845</td>\n",
       "      <td>933.57</td>\n",
       "      <td>Critical</td>\n",
       "    </tr>\n",
       "    <tr>\n",
       "      <th>1</th>\n",
       "      <td>26341</td>\n",
       "      <td>IN-2013-77878</td>\n",
       "      <td>05-02-2013</td>\n",
       "      <td>07-02-2013</td>\n",
       "      <td>Second Class</td>\n",
       "      <td>JR-16210</td>\n",
       "      <td>Justin Ritter</td>\n",
       "      <td>Corporate</td>\n",
       "      <td>Wollongong</td>\n",
       "      <td>New South Wales</td>\n",
       "      <td>Australia</td>\n",
       "      <td>NaN</td>\n",
       "      <td>APAC</td>\n",
       "      <td>Oceania</td>\n",
       "      <td>FUR-CH-10003950</td>\n",
       "      <td>Furniture</td>\n",
       "      <td>Chairs</td>\n",
       "      <td>Novimex Executive Leather Armchair, Black</td>\n",
       "      <td>3709.395</td>\n",
       "      <td>9</td>\n",
       "      <td>0.1</td>\n",
       "      <td>-288.7650</td>\n",
       "      <td>923.63</td>\n",
       "      <td>Critical</td>\n",
       "    </tr>\n",
       "    <tr>\n",
       "      <th>2</th>\n",
       "      <td>25330</td>\n",
       "      <td>IN-2013-71249</td>\n",
       "      <td>17-10-2013</td>\n",
       "      <td>18-10-2013</td>\n",
       "      <td>First Class</td>\n",
       "      <td>CR-12730</td>\n",
       "      <td>Craig Reiter</td>\n",
       "      <td>Consumer</td>\n",
       "      <td>Brisbane</td>\n",
       "      <td>Queensland</td>\n",
       "      <td>Australia</td>\n",
       "      <td>NaN</td>\n",
       "      <td>APAC</td>\n",
       "      <td>Oceania</td>\n",
       "      <td>TEC-PH-10004664</td>\n",
       "      <td>Technology</td>\n",
       "      <td>Phones</td>\n",
       "      <td>Nokia Smart Phone, with Caller ID</td>\n",
       "      <td>5175.171</td>\n",
       "      <td>9</td>\n",
       "      <td>0.1</td>\n",
       "      <td>919.9710</td>\n",
       "      <td>915.49</td>\n",
       "      <td>Medium</td>\n",
       "    </tr>\n",
       "  </tbody>\n",
       "</table>\n",
       "</div>"
      ],
      "text/plain": [
       "   Row ID        Order ID  Order Date   Ship Date     Ship Mode Customer ID  \\\n",
       "0   32298  CA-2012-124891  31-07-2012  31-07-2012      Same Day    RH-19495   \n",
       "1   26341   IN-2013-77878  05-02-2013  07-02-2013  Second Class    JR-16210   \n",
       "2   25330   IN-2013-71249  17-10-2013  18-10-2013   First Class    CR-12730   \n",
       "\n",
       "   Customer Name    Segment           City            State        Country  \\\n",
       "0    Rick Hansen   Consumer  New York City         New York  United States   \n",
       "1  Justin Ritter  Corporate     Wollongong  New South Wales      Australia   \n",
       "2   Craig Reiter   Consumer       Brisbane       Queensland      Australia   \n",
       "\n",
       "   Postal Code Market   Region       Product ID    Category Sub-Category  \\\n",
       "0      10024.0     US     East  TEC-AC-10003033  Technology  Accessories   \n",
       "1          NaN   APAC  Oceania  FUR-CH-10003950   Furniture       Chairs   \n",
       "2          NaN   APAC  Oceania  TEC-PH-10004664  Technology       Phones   \n",
       "\n",
       "                                        Product Name     Sales  Quantity  \\\n",
       "0  Plantronics CS510 - Over-the-Head monaural Wir...  2309.650         7   \n",
       "1          Novimex Executive Leather Armchair, Black  3709.395         9   \n",
       "2                  Nokia Smart Phone, with Caller ID  5175.171         9   \n",
       "\n",
       "   Discount    Profit  Shipping Cost Order Priority  \n",
       "0       0.0  762.1845         933.57       Critical  \n",
       "1       0.1 -288.7650         923.63       Critical  \n",
       "2       0.1  919.9710         915.49         Medium  "
      ]
     },
     "execution_count": 2,
     "metadata": {},
     "output_type": "execute_result"
    }
   ],
   "source": [
    "df = pd.read_csv(\"../../datos/Global_Superstore.csv\", encoding=\"latin1\")\n",
    "df.head(3)"
   ]
  },
  {
   "cell_type": "markdown",
   "metadata": {},
   "source": [
    "Observamos que no hay dupolicados y la única columna que tiene nulos es Postal Code:"
   ]
  },
  {
   "cell_type": "code",
   "execution_count": 3,
   "metadata": {},
   "outputs": [
    {
     "name": "stdout",
     "output_type": "stream",
     "text": [
      "Hay 0 duplicados.\n"
     ]
    },
    {
     "data": {
      "text/plain": [
       "Row ID                0\n",
       "Order ID              0\n",
       "Order Date            0\n",
       "Ship Date             0\n",
       "Ship Mode             0\n",
       "Customer ID           0\n",
       "Customer Name         0\n",
       "Segment               0\n",
       "City                  0\n",
       "State                 0\n",
       "Country               0\n",
       "Postal Code       41296\n",
       "Market                0\n",
       "Region                0\n",
       "Product ID            0\n",
       "Category              0\n",
       "Sub-Category          0\n",
       "Product Name          0\n",
       "Sales                 0\n",
       "Quantity              0\n",
       "Discount              0\n",
       "Profit                0\n",
       "Shipping Cost         0\n",
       "Order Priority        0\n",
       "dtype: int64"
      ]
     },
     "execution_count": 3,
     "metadata": {},
     "output_type": "execute_result"
    }
   ],
   "source": [
    "print(f\"Hay {df.duplicated().sum()} duplicados.\")\n",
    "df.isna().sum()"
   ]
  },
  {
   "cell_type": "markdown",
   "metadata": {},
   "source": [
    "Vamos a eliminar las columnas que no aportan valor a la hora de segmentar los clientes. Entre ellas la columna que consideramos más importante es `Profit` pues nosotros como empresa lo que vamos a intentar es segmentar a nuestros clientes en base al dinero que nos están generando como empresa."
   ]
  },
  {
   "cell_type": "code",
   "execution_count": 4,
   "metadata": {},
   "outputs": [],
   "source": [
    "df_clustering = df[['Segment', 'Country', 'Category', 'Sales', 'Profit', 'Order Priority']]"
   ]
  },
  {
   "cell_type": "code",
   "execution_count": 5,
   "metadata": {},
   "outputs": [
    {
     "name": "stdout",
     "output_type": "stream",
     "text": [
      "El número de datos es 51290 y el de columnas es 6\n",
      "\n",
      " ..................... \n",
      "\n",
      "Los duplicados que tenemos en el conjunto de datos son: 1152\n",
      "\n",
      " ..................... \n",
      "\n",
      "Los nulos que tenemos en el conjunto de datos son:\n"
     ]
    },
    {
     "data": {
      "text/html": [
       "<div>\n",
       "<style scoped>\n",
       "    .dataframe tbody tr th:only-of-type {\n",
       "        vertical-align: middle;\n",
       "    }\n",
       "\n",
       "    .dataframe tbody tr th {\n",
       "        vertical-align: top;\n",
       "    }\n",
       "\n",
       "    .dataframe thead th {\n",
       "        text-align: right;\n",
       "    }\n",
       "</style>\n",
       "<table border=\"1\" class=\"dataframe\">\n",
       "  <thead>\n",
       "    <tr style=\"text-align: right;\">\n",
       "      <th></th>\n",
       "      <th>%_nulos</th>\n",
       "    </tr>\n",
       "  </thead>\n",
       "  <tbody>\n",
       "  </tbody>\n",
       "</table>\n",
       "</div>"
      ],
      "text/plain": [
       "Empty DataFrame\n",
       "Columns: [%_nulos]\n",
       "Index: []"
      ]
     },
     "metadata": {},
     "output_type": "display_data"
    },
    {
     "name": "stdout",
     "output_type": "stream",
     "text": [
      "\n",
      " ..................... \n",
      "\n",
      "Los tipos de las columnas son:\n"
     ]
    },
    {
     "data": {
      "text/html": [
       "<div>\n",
       "<style scoped>\n",
       "    .dataframe tbody tr th:only-of-type {\n",
       "        vertical-align: middle;\n",
       "    }\n",
       "\n",
       "    .dataframe tbody tr th {\n",
       "        vertical-align: top;\n",
       "    }\n",
       "\n",
       "    .dataframe thead th {\n",
       "        text-align: right;\n",
       "    }\n",
       "</style>\n",
       "<table border=\"1\" class=\"dataframe\">\n",
       "  <thead>\n",
       "    <tr style=\"text-align: right;\">\n",
       "      <th></th>\n",
       "      <th>tipo_dato</th>\n",
       "    </tr>\n",
       "  </thead>\n",
       "  <tbody>\n",
       "    <tr>\n",
       "      <th>Segment</th>\n",
       "      <td>object</td>\n",
       "    </tr>\n",
       "    <tr>\n",
       "      <th>Country</th>\n",
       "      <td>object</td>\n",
       "    </tr>\n",
       "    <tr>\n",
       "      <th>Category</th>\n",
       "      <td>object</td>\n",
       "    </tr>\n",
       "    <tr>\n",
       "      <th>Sales</th>\n",
       "      <td>float64</td>\n",
       "    </tr>\n",
       "    <tr>\n",
       "      <th>Profit</th>\n",
       "      <td>float64</td>\n",
       "    </tr>\n",
       "    <tr>\n",
       "      <th>Order Priority</th>\n",
       "      <td>object</td>\n",
       "    </tr>\n",
       "  </tbody>\n",
       "</table>\n",
       "</div>"
      ],
      "text/plain": [
       "               tipo_dato\n",
       "Segment           object\n",
       "Country           object\n",
       "Category          object\n",
       "Sales            float64\n",
       "Profit           float64\n",
       "Order Priority    object"
      ]
     },
     "metadata": {},
     "output_type": "display_data"
    },
    {
     "name": "stdout",
     "output_type": "stream",
     "text": [
      "\n",
      " ..................... \n",
      "\n"
     ]
    },
    {
     "data": {
      "text/html": [
       "<div>\n",
       "<style scoped>\n",
       "    .dataframe tbody tr th:only-of-type {\n",
       "        vertical-align: middle;\n",
       "    }\n",
       "\n",
       "    .dataframe tbody tr th {\n",
       "        vertical-align: top;\n",
       "    }\n",
       "\n",
       "    .dataframe thead th {\n",
       "        text-align: right;\n",
       "    }\n",
       "</style>\n",
       "<table border=\"1\" class=\"dataframe\">\n",
       "  <thead>\n",
       "    <tr style=\"text-align: right;\">\n",
       "      <th></th>\n",
       "      <th>count</th>\n",
       "      <th>mean</th>\n",
       "      <th>std</th>\n",
       "      <th>min</th>\n",
       "      <th>25%</th>\n",
       "      <th>50%</th>\n",
       "      <th>75%</th>\n",
       "      <th>max</th>\n",
       "    </tr>\n",
       "  </thead>\n",
       "  <tbody>\n",
       "    <tr>\n",
       "      <th>Sales</th>\n",
       "      <td>51290.0</td>\n",
       "      <td>246.490581</td>\n",
       "      <td>487.565361</td>\n",
       "      <td>0.444</td>\n",
       "      <td>30.758625</td>\n",
       "      <td>85.053</td>\n",
       "      <td>251.0532</td>\n",
       "      <td>22638.480</td>\n",
       "    </tr>\n",
       "    <tr>\n",
       "      <th>Profit</th>\n",
       "      <td>51290.0</td>\n",
       "      <td>28.610982</td>\n",
       "      <td>174.340972</td>\n",
       "      <td>-6599.978</td>\n",
       "      <td>0.000000</td>\n",
       "      <td>9.240</td>\n",
       "      <td>36.8100</td>\n",
       "      <td>8399.976</td>\n",
       "    </tr>\n",
       "  </tbody>\n",
       "</table>\n",
       "</div>"
      ],
      "text/plain": [
       "          count        mean         std       min        25%     50%  \\\n",
       "Sales   51290.0  246.490581  487.565361     0.444  30.758625  85.053   \n",
       "Profit  51290.0   28.610982  174.340972 -6599.978   0.000000   9.240   \n",
       "\n",
       "             75%        max  \n",
       "Sales   251.0532  22638.480  \n",
       "Profit   36.8100   8399.976  "
      ]
     },
     "metadata": {},
     "output_type": "display_data"
    },
    {
     "name": "stdout",
     "output_type": "stream",
     "text": [
      "\n",
      " ..................... \n",
      "\n",
      "Los valores que tenemos para las columnas categóricas son: \n",
      "La columna SEGMENT tiene las siguientes valore únicos:\n"
     ]
    },
    {
     "data": {
      "text/html": [
       "<div>\n",
       "<style scoped>\n",
       "    .dataframe tbody tr th:only-of-type {\n",
       "        vertical-align: middle;\n",
       "    }\n",
       "\n",
       "    .dataframe tbody tr th {\n",
       "        vertical-align: top;\n",
       "    }\n",
       "\n",
       "    .dataframe thead th {\n",
       "        text-align: right;\n",
       "    }\n",
       "</style>\n",
       "<table border=\"1\" class=\"dataframe\">\n",
       "  <thead>\n",
       "    <tr style=\"text-align: right;\">\n",
       "      <th></th>\n",
       "      <th>count</th>\n",
       "    </tr>\n",
       "    <tr>\n",
       "      <th>Segment</th>\n",
       "      <th></th>\n",
       "    </tr>\n",
       "  </thead>\n",
       "  <tbody>\n",
       "    <tr>\n",
       "      <th>Consumer</th>\n",
       "      <td>26518</td>\n",
       "    </tr>\n",
       "    <tr>\n",
       "      <th>Corporate</th>\n",
       "      <td>15429</td>\n",
       "    </tr>\n",
       "    <tr>\n",
       "      <th>Home Office</th>\n",
       "      <td>9343</td>\n",
       "    </tr>\n",
       "  </tbody>\n",
       "</table>\n",
       "</div>"
      ],
      "text/plain": [
       "             count\n",
       "Segment           \n",
       "Consumer     26518\n",
       "Corporate    15429\n",
       "Home Office   9343"
      ]
     },
     "metadata": {},
     "output_type": "display_data"
    },
    {
     "name": "stdout",
     "output_type": "stream",
     "text": [
      "La columna COUNTRY tiene las siguientes valore únicos:\n"
     ]
    },
    {
     "data": {
      "text/html": [
       "<div>\n",
       "<style scoped>\n",
       "    .dataframe tbody tr th:only-of-type {\n",
       "        vertical-align: middle;\n",
       "    }\n",
       "\n",
       "    .dataframe tbody tr th {\n",
       "        vertical-align: top;\n",
       "    }\n",
       "\n",
       "    .dataframe thead th {\n",
       "        text-align: right;\n",
       "    }\n",
       "</style>\n",
       "<table border=\"1\" class=\"dataframe\">\n",
       "  <thead>\n",
       "    <tr style=\"text-align: right;\">\n",
       "      <th></th>\n",
       "      <th>count</th>\n",
       "    </tr>\n",
       "    <tr>\n",
       "      <th>Country</th>\n",
       "      <th></th>\n",
       "    </tr>\n",
       "  </thead>\n",
       "  <tbody>\n",
       "    <tr>\n",
       "      <th>United States</th>\n",
       "      <td>9994</td>\n",
       "    </tr>\n",
       "    <tr>\n",
       "      <th>Australia</th>\n",
       "      <td>2837</td>\n",
       "    </tr>\n",
       "    <tr>\n",
       "      <th>France</th>\n",
       "      <td>2827</td>\n",
       "    </tr>\n",
       "    <tr>\n",
       "      <th>Mexico</th>\n",
       "      <td>2644</td>\n",
       "    </tr>\n",
       "    <tr>\n",
       "      <th>Germany</th>\n",
       "      <td>2065</td>\n",
       "    </tr>\n",
       "  </tbody>\n",
       "</table>\n",
       "</div>"
      ],
      "text/plain": [
       "               count\n",
       "Country             \n",
       "United States   9994\n",
       "Australia       2837\n",
       "France          2827\n",
       "Mexico          2644\n",
       "Germany         2065"
      ]
     },
     "metadata": {},
     "output_type": "display_data"
    },
    {
     "name": "stdout",
     "output_type": "stream",
     "text": [
      "La columna CATEGORY tiene las siguientes valore únicos:\n"
     ]
    },
    {
     "data": {
      "text/html": [
       "<div>\n",
       "<style scoped>\n",
       "    .dataframe tbody tr th:only-of-type {\n",
       "        vertical-align: middle;\n",
       "    }\n",
       "\n",
       "    .dataframe tbody tr th {\n",
       "        vertical-align: top;\n",
       "    }\n",
       "\n",
       "    .dataframe thead th {\n",
       "        text-align: right;\n",
       "    }\n",
       "</style>\n",
       "<table border=\"1\" class=\"dataframe\">\n",
       "  <thead>\n",
       "    <tr style=\"text-align: right;\">\n",
       "      <th></th>\n",
       "      <th>count</th>\n",
       "    </tr>\n",
       "    <tr>\n",
       "      <th>Category</th>\n",
       "      <th></th>\n",
       "    </tr>\n",
       "  </thead>\n",
       "  <tbody>\n",
       "    <tr>\n",
       "      <th>Office Supplies</th>\n",
       "      <td>31273</td>\n",
       "    </tr>\n",
       "    <tr>\n",
       "      <th>Technology</th>\n",
       "      <td>10141</td>\n",
       "    </tr>\n",
       "    <tr>\n",
       "      <th>Furniture</th>\n",
       "      <td>9876</td>\n",
       "    </tr>\n",
       "  </tbody>\n",
       "</table>\n",
       "</div>"
      ],
      "text/plain": [
       "                 count\n",
       "Category              \n",
       "Office Supplies  31273\n",
       "Technology       10141\n",
       "Furniture         9876"
      ]
     },
     "metadata": {},
     "output_type": "display_data"
    },
    {
     "name": "stdout",
     "output_type": "stream",
     "text": [
      "La columna ORDER PRIORITY tiene las siguientes valore únicos:\n"
     ]
    },
    {
     "data": {
      "text/html": [
       "<div>\n",
       "<style scoped>\n",
       "    .dataframe tbody tr th:only-of-type {\n",
       "        vertical-align: middle;\n",
       "    }\n",
       "\n",
       "    .dataframe tbody tr th {\n",
       "        vertical-align: top;\n",
       "    }\n",
       "\n",
       "    .dataframe thead th {\n",
       "        text-align: right;\n",
       "    }\n",
       "</style>\n",
       "<table border=\"1\" class=\"dataframe\">\n",
       "  <thead>\n",
       "    <tr style=\"text-align: right;\">\n",
       "      <th></th>\n",
       "      <th>count</th>\n",
       "    </tr>\n",
       "    <tr>\n",
       "      <th>Order Priority</th>\n",
       "      <th></th>\n",
       "    </tr>\n",
       "  </thead>\n",
       "  <tbody>\n",
       "    <tr>\n",
       "      <th>Medium</th>\n",
       "      <td>29433</td>\n",
       "    </tr>\n",
       "    <tr>\n",
       "      <th>High</th>\n",
       "      <td>15501</td>\n",
       "    </tr>\n",
       "    <tr>\n",
       "      <th>Critical</th>\n",
       "      <td>3932</td>\n",
       "    </tr>\n",
       "    <tr>\n",
       "      <th>Low</th>\n",
       "      <td>2424</td>\n",
       "    </tr>\n",
       "  </tbody>\n",
       "</table>\n",
       "</div>"
      ],
      "text/plain": [
       "                count\n",
       "Order Priority       \n",
       "Medium          29433\n",
       "High            15501\n",
       "Critical         3932\n",
       "Low              2424"
      ]
     },
     "metadata": {},
     "output_type": "display_data"
    }
   ],
   "source": [
    "fe.exploracion_dataframe(df_clustering)"
   ]
  },
  {
   "cell_type": "markdown",
   "metadata": {},
   "source": [
    "Podemos observar que han aparecido duplicados debido a que hemos eliminado numerosas columnas, sin embargo, esos duplicados corresponden a datos reales por lo que los mantenemos. \n",
    "\n",
    "Vemos que tanto la media como mediana de las variables numéricas difieren bastante siendo en Sales 85 la mediana y 246 la media, lo que implica que hay alguno valores muy muy altos que distorsionan la media, lo mismo ocurre con Profit."
   ]
  },
  {
   "cell_type": "markdown",
   "metadata": {},
   "source": [
    "### 1. Visualizar numéricas y categóricas."
   ]
  },
  {
   "cell_type": "code",
   "execution_count": 6,
   "metadata": {},
   "outputs": [],
   "source": [
    "sop_clust = sc.Exploracion(df_clustering)"
   ]
  },
  {
   "cell_type": "code",
   "execution_count": 7,
   "metadata": {},
   "outputs": [
    {
     "data": {
      "image/png": "[encoded data removed]",
      "text/plain": [
       "<Figure size 1500x1000 with 2 Axes>"
      ]
     },
     "metadata": {},
     "output_type": "display_data"
    }
   ],
   "source": [
    "df_num, df_cat = fe.separar_df(df_clustering)\n",
    "fe.plot_numericas(df_num)"
   ]
  },
  {
   "cell_type": "markdown",
   "metadata": {},
   "source": [
    "Podemos observar gráficamente lo que acabamos de comentar sobre la media y la mediana y como hay valores donde hay muchísimo más peso que en otras haciendo que la media sea poco fiable."
   ]
  },
  {
   "cell_type": "code",
   "execution_count": 8,
   "metadata": {},
   "outputs": [
    {
     "data": {
      "image/png": "[encoded data removed]",
      "text/plain": [
       "<Figure size 1500x2000 with 4 Axes>"
      ]
     },
     "metadata": {},
     "output_type": "display_data"
    }
   ],
   "source": [
    "sop_clust.visualizar_categoricas()"
   ]
  },
  {
   "cell_type": "markdown",
   "metadata": {},
   "source": [
    "En cuanto a las variables categóricas podemos ver que en Segment la variable consumer es la dominante, en cuanto a paises claramente hay muchísimos más clientes de Estados Unidos que de otros paises lo que puede generarnos demasiados clusters debido a sus distintos hábitos de compra. En cuanto a Category la más vendidad es Office Supllies y en cuanto a Order Priority la más usada es medium seguida de high."
   ]
  },
  {
   "cell_type": "markdown",
   "metadata": {},
   "source": [
    "### 2. Correlación entre variables numéricas"
   ]
  },
  {
   "cell_type": "code",
   "execution_count": 9,
   "metadata": {},
   "outputs": [
    {
     "data": {
      "image/png": "[encoded data removed]",
      "text/plain": [
       "<Figure size 500x300 with 2 Axes>"
      ]
     },
     "metadata": {},
     "output_type": "display_data"
    }
   ],
   "source": [
    "fe.heatmap_correlacion(df_clustering, figsize=(5,3))"
   ]
  },
  {
   "cell_type": "markdown",
   "metadata": {},
   "source": [
    "La correlación entre Sales y Profit es mediana, de hecho estudiando los datos la categoría que más sales genera es la que menos profit da, no en todas es así, pero es una buena observación para entender porque la correlación no es más alta."
   ]
  },
  {
   "cell_type": "markdown",
   "metadata": {},
   "source": [
    "### 3. Outliers"
   ]
  },
  {
   "cell_type": "code",
   "execution_count": 10,
   "metadata": {},
   "outputs": [
    {
     "data": {
      "image/png": "[encoded data removed]",
      "text/plain": [
       "<Figure size 1500x1000 with 2 Axes>"
      ]
     },
     "metadata": {},
     "output_type": "display_data"
    }
   ],
   "source": [
    "fe.detectar_outliers(df_clustering)"
   ]
  },
  {
   "cell_type": "code",
   "execution_count": 11,
   "metadata": {},
   "outputs": [],
   "source": [
    "multi = fo.GestionOutliersMultivariados(df_clustering)\n",
    "contaminacion = [0.01, 0.05, 0.1]\n",
    "estimadores = [10, 100, 200]\n",
    "cols = df_num.columns\n",
    "vr = \"\"\n",
    "df_outliers = multi.detectar_outliers_if(cols, vr, contaminacion, estimadores, False)"
   ]
  },
  {
   "cell_type": "code",
   "execution_count": 12,
   "metadata": {},
   "outputs": [
    {
     "name": "stdout",
     "output_type": "stream",
     "text": [
      "Tenemos un 4.46% de outliers respecto al total de los datos.\n"
     ]
    }
   ],
   "source": [
    "df_outliers[\"porcentaje_outliers\"] = df_outliers.filter(like=\"outliers\").apply(lambda x: round(sum(x==-1)/len(x),2), axis=1)\n",
    "\n",
    "porcentaje = 0.6\n",
    "df_outliers_porcentaje = df_outliers[df_outliers[\"porcentaje_outliers\"]>porcentaje]\n",
    "df_restante = df_outliers[df_outliers[\"porcentaje_outliers\"]<porcentaje]\n",
    "\n",
    "print(f\"Tenemos un {round(df_outliers_porcentaje.shape[0]/df_outliers.shape[0]*100, 2)}% de outliers respecto al total de los datos.\")"
   ]
  },
  {
   "cell_type": "code",
   "execution_count": 13,
   "metadata": {},
   "outputs": [
    {
     "data": {
      "text/plain": [
       "2289"
      ]
     },
     "execution_count": 13,
     "metadata": {},
     "output_type": "execute_result"
    }
   ],
   "source": [
    "df_outliers_porcentaje.shape[0]"
   ]
  },
  {
   "cell_type": "code",
   "execution_count": 14,
   "metadata": {},
   "outputs": [
    {
     "data": {
      "text/html": [
       "<div>\n",
       "<style scoped>\n",
       "    .dataframe tbody tr th:only-of-type {\n",
       "        vertical-align: middle;\n",
       "    }\n",
       "\n",
       "    .dataframe tbody tr th {\n",
       "        vertical-align: top;\n",
       "    }\n",
       "\n",
       "    .dataframe thead th {\n",
       "        text-align: right;\n",
       "    }\n",
       "</style>\n",
       "<table border=\"1\" class=\"dataframe\">\n",
       "  <thead>\n",
       "    <tr style=\"text-align: right;\">\n",
       "      <th></th>\n",
       "      <th>count</th>\n",
       "      <th>mean</th>\n",
       "      <th>std</th>\n",
       "      <th>min</th>\n",
       "      <th>25%</th>\n",
       "      <th>50%</th>\n",
       "      <th>75%</th>\n",
       "      <th>max</th>\n",
       "    </tr>\n",
       "  </thead>\n",
       "  <tbody>\n",
       "    <tr>\n",
       "      <th>Sales</th>\n",
       "      <td>2289.0</td>\n",
       "      <td>1737.307585</td>\n",
       "      <td>1307.948010</td>\n",
       "      <td>63.474</td>\n",
       "      <td>959.760</td>\n",
       "      <td>1564.5600</td>\n",
       "      <td>2182.68</td>\n",
       "      <td>22638.480</td>\n",
       "    </tr>\n",
       "    <tr>\n",
       "      <th>Profit</th>\n",
       "      <td>2289.0</td>\n",
       "      <td>164.083378</td>\n",
       "      <td>748.850891</td>\n",
       "      <td>-6599.978</td>\n",
       "      <td>-324.864</td>\n",
       "      <td>309.4515</td>\n",
       "      <td>553.98</td>\n",
       "      <td>8399.976</td>\n",
       "    </tr>\n",
       "  </tbody>\n",
       "</table>\n",
       "</div>"
      ],
      "text/plain": [
       "         count         mean          std       min      25%        50%  \\\n",
       "Sales   2289.0  1737.307585  1307.948010    63.474  959.760  1564.5600   \n",
       "Profit  2289.0   164.083378   748.850891 -6599.978 -324.864   309.4515   \n",
       "\n",
       "            75%        max  \n",
       "Sales   2182.68  22638.480  \n",
       "Profit   553.98   8399.976  "
      ]
     },
     "execution_count": 14,
     "metadata": {},
     "output_type": "execute_result"
    }
   ],
   "source": [
    "df_outliers_porcentaje.describe().T[:2]"
   ]
  },
  {
   "cell_type": "code",
   "execution_count": 15,
   "metadata": {},
   "outputs": [
    {
     "data": {
      "text/plain": [
       "Category\n",
       "Technology         946\n",
       "Furniture          884\n",
       "Office Supplies    459\n",
       "Name: count, dtype: int64"
      ]
     },
     "execution_count": 15,
     "metadata": {},
     "output_type": "execute_result"
    }
   ],
   "source": [
    "df_outliers_porcentaje[\"Category\"].value_counts()\n"
   ]
  },
  {
   "cell_type": "code",
   "execution_count": 16,
   "metadata": {},
   "outputs": [
    {
     "data": {
      "text/plain": [
       "Country\n",
       "United States    363\n",
       "Australia        172\n",
       "China            137\n",
       "France           123\n",
       "India            110\n",
       "                ... \n",
       "Estonia            1\n",
       "Sudan              1\n",
       "Hong Kong          1\n",
       "Bolivia            1\n",
       "Uganda             1\n",
       "Name: count, Length: 104, dtype: int64"
      ]
     },
     "execution_count": 16,
     "metadata": {},
     "output_type": "execute_result"
    }
   ],
   "source": [
    "df_outliers_porcentaje[\"Country\"].value_counts()\n"
   ]
  },
  {
   "cell_type": "markdown",
   "metadata": {},
   "source": [
    "Observando los outlies al fin y al cabo son datos reales y tampoco deberíamos eliminarlos a la ligera por lo que como primera aproximación nos los quedamos."
   ]
  },
  {
   "cell_type": "code",
   "execution_count": 17,
   "metadata": {},
   "outputs": [],
   "source": [
    "df_inicial = df_clustering.copy()"
   ]
  },
  {
   "cell_type": "code",
   "execution_count": null,
   "metadata": {},
   "outputs": [],
   "source": [
    "df_inicial.to_pickle(\"../../datos/dataframes/df_inicial.pkl\")"
   ]
  },
  {
   "cell_type": "markdown",
   "metadata": {},
   "source": [
    "## **Preprocesamiento**"
   ]
  },
  {
   "cell_type": "markdown",
   "metadata": {},
   "source": [
    "### Encoding"
   ]
  },
  {
   "cell_type": "code",
   "execution_count": 19,
   "metadata": {},
   "outputs": [
    {
     "data": {
      "text/html": [
       "<div>\n",
       "<style scoped>\n",
       "    .dataframe tbody tr th:only-of-type {\n",
       "        vertical-align: middle;\n",
       "    }\n",
       "\n",
       "    .dataframe tbody tr th {\n",
       "        vertical-align: top;\n",
       "    }\n",
       "\n",
       "    .dataframe thead th {\n",
       "        text-align: right;\n",
       "    }\n",
       "</style>\n",
       "<table border=\"1\" class=\"dataframe\">\n",
       "  <thead>\n",
       "    <tr style=\"text-align: right;\">\n",
       "      <th></th>\n",
       "      <th>Segment</th>\n",
       "      <th>Country</th>\n",
       "      <th>Category</th>\n",
       "      <th>Sales</th>\n",
       "      <th>Profit</th>\n",
       "      <th>Order Priority</th>\n",
       "    </tr>\n",
       "  </thead>\n",
       "  <tbody>\n",
       "    <tr>\n",
       "      <th>0</th>\n",
       "      <td>Consumer</td>\n",
       "      <td>United States</td>\n",
       "      <td>Technology</td>\n",
       "      <td>2309.65</td>\n",
       "      <td>762.1845</td>\n",
       "      <td>Critical</td>\n",
       "    </tr>\n",
       "  </tbody>\n",
       "</table>\n",
       "</div>"
      ],
      "text/plain": [
       "    Segment        Country    Category    Sales    Profit Order Priority\n",
       "0  Consumer  United States  Technology  2309.65  762.1845       Critical"
      ]
     },
     "execution_count": 19,
     "metadata": {},
     "output_type": "execute_result"
    }
   ],
   "source": [
    "df_clustering.head(1)"
   ]
  },
  {
   "cell_type": "code",
   "execution_count": 20,
   "metadata": {},
   "outputs": [
    {
     "data": {
      "text/html": [
       "<div>\n",
       "<style scoped>\n",
       "    .dataframe tbody tr th:only-of-type {\n",
       "        vertical-align: middle;\n",
       "    }\n",
       "\n",
       "    .dataframe tbody tr th {\n",
       "        vertical-align: top;\n",
       "    }\n",
       "\n",
       "    .dataframe thead th {\n",
       "        text-align: right;\n",
       "    }\n",
       "</style>\n",
       "<table border=\"1\" class=\"dataframe\">\n",
       "  <thead>\n",
       "    <tr style=\"text-align: right;\">\n",
       "      <th></th>\n",
       "      <th>Segment</th>\n",
       "      <th>Country</th>\n",
       "      <th>Sales</th>\n",
       "      <th>Profit</th>\n",
       "      <th>Order Priority</th>\n",
       "      <th>Category_Furniture</th>\n",
       "      <th>Category_Office Supplies</th>\n",
       "      <th>Category_Technology</th>\n",
       "    </tr>\n",
       "  </thead>\n",
       "  <tbody>\n",
       "    <tr>\n",
       "      <th>0</th>\n",
       "      <td>0.517021</td>\n",
       "      <td>0.194853</td>\n",
       "      <td>2309.650</td>\n",
       "      <td>0.000019</td>\n",
       "      <td>0.076662</td>\n",
       "      <td>0.0</td>\n",
       "      <td>0.0</td>\n",
       "      <td>1.0</td>\n",
       "    </tr>\n",
       "    <tr>\n",
       "      <th>1</th>\n",
       "      <td>0.300819</td>\n",
       "      <td>0.055313</td>\n",
       "      <td>3709.395</td>\n",
       "      <td>0.000019</td>\n",
       "      <td>0.076662</td>\n",
       "      <td>1.0</td>\n",
       "      <td>0.0</td>\n",
       "      <td>0.0</td>\n",
       "    </tr>\n",
       "    <tr>\n",
       "      <th>2</th>\n",
       "      <td>0.517021</td>\n",
       "      <td>0.055313</td>\n",
       "      <td>5175.171</td>\n",
       "      <td>0.000019</td>\n",
       "      <td>0.573855</td>\n",
       "      <td>0.0</td>\n",
       "      <td>0.0</td>\n",
       "      <td>1.0</td>\n",
       "    </tr>\n",
       "  </tbody>\n",
       "</table>\n",
       "</div>"
      ],
      "text/plain": [
       "    Segment   Country     Sales    Profit  Order Priority  Category_Furniture  \\\n",
       "0  0.517021  0.194853  2309.650  0.000019        0.076662                 0.0   \n",
       "1  0.300819  0.055313  3709.395  0.000019        0.076662                 1.0   \n",
       "2  0.517021  0.055313  5175.171  0.000019        0.573855                 0.0   \n",
       "\n",
       "   Category_Office Supplies  Category_Technology  \n",
       "0                       0.0                  1.0  \n",
       "1                       0.0                  0.0  \n",
       "2                       0.0                  1.0  "
      ]
     },
     "execution_count": 20,
     "metadata": {},
     "output_type": "execute_result"
    }
   ],
   "source": [
    "diccionario_encoding={\"onehot\":['Category'], \"frequency\":['Segment', \"Profit\", 'Country', 'Order Priority']}\n",
    "var = \"Profit\"\n",
    "encoding = fen.Encoding(df_clustering, diccionario_encoding, var)\n",
    "\n",
    "\n",
    "df_ohe, one_hot_encoder = encoding.one_hot_encoding()\n",
    "df_ohe.drop(columns=diccionario_encoding[\"onehot\"], inplace=True)\n",
    "df_ohe\n",
    "\n",
    "df_scaled = encoding.frequency_encoding()\n",
    "df_scaled.head(3)\n"
   ]
  },
  {
   "cell_type": "code",
   "execution_count": null,
   "metadata": {},
   "outputs": [],
   "source": [
    "df_scaled.to_pickle(\"../../datos/dataframes/df_clustering_encoded.pkl\")"
   ]
  },
  {
   "cell_type": "markdown",
   "metadata": {},
   "source": [
    "### Estandarizacion"
   ]
  },
  {
   "cell_type": "code",
   "execution_count": null,
   "metadata": {},
   "outputs": [],
   "source": [
    "df_clustering_encoded = pd.read_pickle(\"../../datos/dataframes/df_clustering_encoded.pkl\")"
   ]
  },
  {
   "cell_type": "code",
   "execution_count": 23,
   "metadata": {},
   "outputs": [
    {
     "data": {
      "text/html": [
       "<div>\n",
       "<style scoped>\n",
       "    .dataframe tbody tr th:only-of-type {\n",
       "        vertical-align: middle;\n",
       "    }\n",
       "\n",
       "    .dataframe tbody tr th {\n",
       "        vertical-align: top;\n",
       "    }\n",
       "\n",
       "    .dataframe thead th {\n",
       "        text-align: right;\n",
       "    }\n",
       "</style>\n",
       "<table border=\"1\" class=\"dataframe\">\n",
       "  <thead>\n",
       "    <tr style=\"text-align: right;\">\n",
       "      <th></th>\n",
       "      <th>Segment</th>\n",
       "      <th>Country</th>\n",
       "      <th>Sales</th>\n",
       "      <th>Profit</th>\n",
       "      <th>Order Priority</th>\n",
       "      <th>Category_Furniture</th>\n",
       "      <th>Category_Office Supplies</th>\n",
       "      <th>Category_Technology</th>\n",
       "      <th>Segment_standar</th>\n",
       "      <th>Country_standar</th>\n",
       "      <th>Sales_standar</th>\n",
       "      <th>Profit_standar</th>\n",
       "      <th>Order Priority_standar</th>\n",
       "      <th>Category_Furniture_standar</th>\n",
       "      <th>Category_Office Supplies_standar</th>\n",
       "      <th>Category_Technology_standar</th>\n",
       "      <th>Segment_robust</th>\n",
       "      <th>Country_robust</th>\n",
       "      <th>Sales_robust</th>\n",
       "      <th>Profit_robust</th>\n",
       "      <th>Order Priority_robust</th>\n",
       "      <th>Category_Furniture_robust</th>\n",
       "      <th>Category_Office Supplies_robust</th>\n",
       "      <th>Category_Technology_robust</th>\n",
       "      <th>Segment_minmax</th>\n",
       "      <th>Country_minmax</th>\n",
       "      <th>Sales_minmax</th>\n",
       "      <th>Profit_minmax</th>\n",
       "      <th>Order Priority_minmax</th>\n",
       "      <th>Category_Furniture_minmax</th>\n",
       "      <th>Category_Office Supplies_minmax</th>\n",
       "      <th>Category_Technology_minmax</th>\n",
       "    </tr>\n",
       "  </thead>\n",
       "  <tbody>\n",
       "    <tr>\n",
       "      <th>0</th>\n",
       "      <td>0.517021</td>\n",
       "      <td>0.194853</td>\n",
       "      <td>2309.650</td>\n",
       "      <td>0.000019</td>\n",
       "      <td>0.076662</td>\n",
       "      <td>0.0</td>\n",
       "      <td>0.0</td>\n",
       "      <td>1.0</td>\n",
       "      <td>0.924087</td>\n",
       "      <td>1.973754</td>\n",
       "      <td>4.231596</td>\n",
       "      <td>-0.220113</td>\n",
       "      <td>-1.929401</td>\n",
       "      <td>-0.488334</td>\n",
       "      <td>-1.249929</td>\n",
       "      <td>2.014370</td>\n",
       "      <td>0.000000</td>\n",
       "      <td>3.643782</td>\n",
       "      <td>10.098283</td>\n",
       "      <td>-0.181818</td>\n",
       "      <td>-1.83039</td>\n",
       "      <td>0.0</td>\n",
       "      <td>-1.0</td>\n",
       "      <td>1.0</td>\n",
       "      <td>1.000000</td>\n",
       "      <td>1.000000</td>\n",
       "      <td>0.102006</td>\n",
       "      <td>0.0</td>\n",
       "      <td>0.055833</td>\n",
       "      <td>0.0</td>\n",
       "      <td>0.0</td>\n",
       "      <td>1.0</td>\n",
       "    </tr>\n",
       "    <tr>\n",
       "      <th>1</th>\n",
       "      <td>0.300819</td>\n",
       "      <td>0.055313</td>\n",
       "      <td>3709.395</td>\n",
       "      <td>0.000019</td>\n",
       "      <td>0.076662</td>\n",
       "      <td>1.0</td>\n",
       "      <td>0.0</td>\n",
       "      <td>0.0</td>\n",
       "      <td>-0.661092</td>\n",
       "      <td>-0.036474</td>\n",
       "      <td>7.102511</td>\n",
       "      <td>-0.220113</td>\n",
       "      <td>-1.929401</td>\n",
       "      <td>2.047779</td>\n",
       "      <td>-1.249929</td>\n",
       "      <td>-0.496433</td>\n",
       "      <td>-1.000000</td>\n",
       "      <td>0.553541</td>\n",
       "      <td>16.452253</td>\n",
       "      <td>-0.181818</td>\n",
       "      <td>-1.83039</td>\n",
       "      <td>1.0</td>\n",
       "      <td>-1.0</td>\n",
       "      <td>0.0</td>\n",
       "      <td>0.354352</td>\n",
       "      <td>0.283727</td>\n",
       "      <td>0.163837</td>\n",
       "      <td>0.0</td>\n",
       "      <td>0.055833</td>\n",
       "      <td>1.0</td>\n",
       "      <td>0.0</td>\n",
       "      <td>0.0</td>\n",
       "    </tr>\n",
       "    <tr>\n",
       "      <th>2</th>\n",
       "      <td>0.517021</td>\n",
       "      <td>0.055313</td>\n",
       "      <td>5175.171</td>\n",
       "      <td>0.000019</td>\n",
       "      <td>0.573855</td>\n",
       "      <td>0.0</td>\n",
       "      <td>0.0</td>\n",
       "      <td>1.0</td>\n",
       "      <td>0.924087</td>\n",
       "      <td>-0.036474</td>\n",
       "      <td>10.108857</td>\n",
       "      <td>-0.220113</td>\n",
       "      <td>0.795092</td>\n",
       "      <td>-0.488334</td>\n",
       "      <td>-1.249929</td>\n",
       "      <td>2.014370</td>\n",
       "      <td>0.000000</td>\n",
       "      <td>0.553541</td>\n",
       "      <td>23.105962</td>\n",
       "      <td>-0.181818</td>\n",
       "      <td>0.00000</td>\n",
       "      <td>0.0</td>\n",
       "      <td>-1.0</td>\n",
       "      <td>1.0</td>\n",
       "      <td>1.000000</td>\n",
       "      <td>0.283727</td>\n",
       "      <td>0.228586</td>\n",
       "      <td>0.0</td>\n",
       "      <td>1.000000</td>\n",
       "      <td>0.0</td>\n",
       "      <td>0.0</td>\n",
       "      <td>1.0</td>\n",
       "    </tr>\n",
       "    <tr>\n",
       "      <th>3</th>\n",
       "      <td>0.182160</td>\n",
       "      <td>0.040261</td>\n",
       "      <td>2892.510</td>\n",
       "      <td>0.000019</td>\n",
       "      <td>0.573855</td>\n",
       "      <td>0.0</td>\n",
       "      <td>0.0</td>\n",
       "      <td>1.0</td>\n",
       "      <td>-1.531089</td>\n",
       "      <td>-0.253310</td>\n",
       "      <td>5.427057</td>\n",
       "      <td>-0.220113</td>\n",
       "      <td>0.795092</td>\n",
       "      <td>-0.488334</td>\n",
       "      <td>-1.249929</td>\n",
       "      <td>2.014370</td>\n",
       "      <td>-1.548832</td>\n",
       "      <td>0.220207</td>\n",
       "      <td>12.744104</td>\n",
       "      <td>-0.181818</td>\n",
       "      <td>0.00000</td>\n",
       "      <td>0.0</td>\n",
       "      <td>-1.0</td>\n",
       "      <td>1.0</td>\n",
       "      <td>0.000000</td>\n",
       "      <td>0.206465</td>\n",
       "      <td>0.127753</td>\n",
       "      <td>0.0</td>\n",
       "      <td>1.000000</td>\n",
       "      <td>0.0</td>\n",
       "      <td>0.0</td>\n",
       "      <td>1.0</td>\n",
       "    </tr>\n",
       "    <tr>\n",
       "      <th>4</th>\n",
       "      <td>0.517021</td>\n",
       "      <td>0.002184</td>\n",
       "      <td>2832.960</td>\n",
       "      <td>0.000019</td>\n",
       "      <td>0.076662</td>\n",
       "      <td>0.0</td>\n",
       "      <td>0.0</td>\n",
       "      <td>1.0</td>\n",
       "      <td>0.924087</td>\n",
       "      <td>-0.801860</td>\n",
       "      <td>5.304919</td>\n",
       "      <td>-0.220113</td>\n",
       "      <td>-1.929401</td>\n",
       "      <td>-0.488334</td>\n",
       "      <td>-1.249929</td>\n",
       "      <td>2.014370</td>\n",
       "      <td>0.000000</td>\n",
       "      <td>-0.623057</td>\n",
       "      <td>12.473784</td>\n",
       "      <td>-0.181818</td>\n",
       "      <td>-1.83039</td>\n",
       "      <td>0.0</td>\n",
       "      <td>-1.0</td>\n",
       "      <td>1.0</td>\n",
       "      <td>1.000000</td>\n",
       "      <td>0.011009</td>\n",
       "      <td>0.125122</td>\n",
       "      <td>0.0</td>\n",
       "      <td>0.055833</td>\n",
       "      <td>0.0</td>\n",
       "      <td>0.0</td>\n",
       "      <td>1.0</td>\n",
       "    </tr>\n",
       "  </tbody>\n",
       "</table>\n",
       "</div>"
      ],
      "text/plain": [
       "    Segment   Country     Sales    Profit  Order Priority  Category_Furniture  \\\n",
       "0  0.517021  0.194853  2309.650  0.000019        0.076662                 0.0   \n",
       "1  0.300819  0.055313  3709.395  0.000019        0.076662                 1.0   \n",
       "2  0.517021  0.055313  5175.171  0.000019        0.573855                 0.0   \n",
       "3  0.182160  0.040261  2892.510  0.000019        0.573855                 0.0   \n",
       "4  0.517021  0.002184  2832.960  0.000019        0.076662                 0.0   \n",
       "\n",
       "   Category_Office Supplies  Category_Technology  Segment_standar  \\\n",
       "0                       0.0                  1.0         0.924087   \n",
       "1                       0.0                  0.0        -0.661092   \n",
       "2                       0.0                  1.0         0.924087   \n",
       "3                       0.0                  1.0        -1.531089   \n",
       "4                       0.0                  1.0         0.924087   \n",
       "\n",
       "   Country_standar  Sales_standar  Profit_standar  Order Priority_standar  \\\n",
       "0         1.973754       4.231596       -0.220113               -1.929401   \n",
       "1        -0.036474       7.102511       -0.220113               -1.929401   \n",
       "2        -0.036474      10.108857       -0.220113                0.795092   \n",
       "3        -0.253310       5.427057       -0.220113                0.795092   \n",
       "4        -0.801860       5.304919       -0.220113               -1.929401   \n",
       "\n",
       "   Category_Furniture_standar  Category_Office Supplies_standar  \\\n",
       "0                   -0.488334                         -1.249929   \n",
       "1                    2.047779                         -1.249929   \n",
       "2                   -0.488334                         -1.249929   \n",
       "3                   -0.488334                         -1.249929   \n",
       "4                   -0.488334                         -1.249929   \n",
       "\n",
       "   Category_Technology_standar  Segment_robust  Country_robust  Sales_robust  \\\n",
       "0                     2.014370        0.000000        3.643782     10.098283   \n",
       "1                    -0.496433       -1.000000        0.553541     16.452253   \n",
       "2                     2.014370        0.000000        0.553541     23.105962   \n",
       "3                     2.014370       -1.548832        0.220207     12.744104   \n",
       "4                     2.014370        0.000000       -0.623057     12.473784   \n",
       "\n",
       "   Profit_robust  Order Priority_robust  Category_Furniture_robust  \\\n",
       "0      -0.181818               -1.83039                        0.0   \n",
       "1      -0.181818               -1.83039                        1.0   \n",
       "2      -0.181818                0.00000                        0.0   \n",
       "3      -0.181818                0.00000                        0.0   \n",
       "4      -0.181818               -1.83039                        0.0   \n",
       "\n",
       "   Category_Office Supplies_robust  Category_Technology_robust  \\\n",
       "0                             -1.0                         1.0   \n",
       "1                             -1.0                         0.0   \n",
       "2                             -1.0                         1.0   \n",
       "3                             -1.0                         1.0   \n",
       "4                             -1.0                         1.0   \n",
       "\n",
       "   Segment_minmax  Country_minmax  Sales_minmax  Profit_minmax  \\\n",
       "0        1.000000        1.000000      0.102006            0.0   \n",
       "1        0.354352        0.283727      0.163837            0.0   \n",
       "2        1.000000        0.283727      0.228586            0.0   \n",
       "3        0.000000        0.206465      0.127753            0.0   \n",
       "4        1.000000        0.011009      0.125122            0.0   \n",
       "\n",
       "   Order Priority_minmax  Category_Furniture_minmax  \\\n",
       "0               0.055833                        0.0   \n",
       "1               0.055833                        1.0   \n",
       "2               1.000000                        0.0   \n",
       "3               1.000000                        0.0   \n",
       "4               0.055833                        0.0   \n",
       "\n",
       "   Category_Office Supplies_minmax  Category_Technology_minmax  \n",
       "0                              0.0                         1.0  \n",
       "1                              0.0                         0.0  \n",
       "2                              0.0                         1.0  \n",
       "3                              0.0                         1.0  \n",
       "4                              0.0                         1.0  "
      ]
     },
     "execution_count": 23,
     "metadata": {},
     "output_type": "execute_result"
    }
   ],
   "source": [
    "modelos_estand = [\"standar\", \"robust\", \"minmax\"]\n",
    "\n",
    "df_estand, dic_scaler = fes.estandarizacion(df_clustering_encoded, df_clustering_encoded.columns, modelos_estand)\n",
    "df_estand.head()"
   ]
  },
  {
   "cell_type": "code",
   "execution_count": 24,
   "metadata": {},
   "outputs": [
    {
     "data": {
      "text/html": [
       "<div>\n",
       "<style scoped>\n",
       "    .dataframe tbody tr th:only-of-type {\n",
       "        vertical-align: middle;\n",
       "    }\n",
       "\n",
       "    .dataframe tbody tr th {\n",
       "        vertical-align: top;\n",
       "    }\n",
       "\n",
       "    .dataframe thead th {\n",
       "        text-align: right;\n",
       "    }\n",
       "</style>\n",
       "<table border=\"1\" class=\"dataframe\">\n",
       "  <thead>\n",
       "    <tr style=\"text-align: right;\">\n",
       "      <th></th>\n",
       "      <th>Segment</th>\n",
       "      <th>Country</th>\n",
       "      <th>Sales</th>\n",
       "      <th>Profit</th>\n",
       "      <th>Order Priority</th>\n",
       "      <th>Category_Furniture</th>\n",
       "      <th>Category_Office Supplies</th>\n",
       "      <th>Category_Technology</th>\n",
       "    </tr>\n",
       "  </thead>\n",
       "  <tbody>\n",
       "    <tr>\n",
       "      <th>0</th>\n",
       "      <td>1.000000</td>\n",
       "      <td>1.000000</td>\n",
       "      <td>0.102006</td>\n",
       "      <td>0.0</td>\n",
       "      <td>0.055833</td>\n",
       "      <td>0.0</td>\n",
       "      <td>0.0</td>\n",
       "      <td>1.0</td>\n",
       "    </tr>\n",
       "    <tr>\n",
       "      <th>1</th>\n",
       "      <td>0.354352</td>\n",
       "      <td>0.283727</td>\n",
       "      <td>0.163837</td>\n",
       "      <td>0.0</td>\n",
       "      <td>0.055833</td>\n",
       "      <td>1.0</td>\n",
       "      <td>0.0</td>\n",
       "      <td>0.0</td>\n",
       "    </tr>\n",
       "  </tbody>\n",
       "</table>\n",
       "</div>"
      ],
      "text/plain": [
       "    Segment   Country     Sales  Profit  Order Priority  Category_Furniture  \\\n",
       "0  1.000000  1.000000  0.102006     0.0        0.055833                 0.0   \n",
       "1  0.354352  0.283727  0.163837     0.0        0.055833                 1.0   \n",
       "\n",
       "   Category_Office Supplies  Category_Technology  \n",
       "0                       0.0                  1.0  \n",
       "1                       0.0                  0.0  "
      ]
     },
     "execution_count": 24,
     "metadata": {},
     "output_type": "execute_result"
    }
   ],
   "source": [
    "scaler=\"minmax\"\n",
    "df_scaled = df_estand.loc[:, df_estand.columns.str.contains(f\"{scaler}\", case=False)]\n",
    "df_scaled.columns = df_scaled.columns.str.replace(f\"_{scaler}\", \"\", regex=False)\n",
    "\n",
    "df_scaled.head(2)\n"
   ]
  },
  {
   "cell_type": "code",
   "execution_count": null,
   "metadata": {},
   "outputs": [],
   "source": [
    "df_scaled.to_pickle(\"../../datos/dataframes/df_clustering_encoded_scaled.pkl\")"
   ]
  },
  {
   "cell_type": "markdown",
   "metadata": {},
   "source": [
    "# **Modelos de clustering**"
   ]
  },
  {
   "cell_type": "code",
   "execution_count": null,
   "metadata": {},
   "outputs": [
    {
     "data": {
      "text/html": [
       "<div>\n",
       "<style scoped>\n",
       "    .dataframe tbody tr th:only-of-type {\n",
       "        vertical-align: middle;\n",
       "    }\n",
       "\n",
       "    .dataframe tbody tr th {\n",
       "        vertical-align: top;\n",
       "    }\n",
       "\n",
       "    .dataframe thead th {\n",
       "        text-align: right;\n",
       "    }\n",
       "</style>\n",
       "<table border=\"1\" class=\"dataframe\">\n",
       "  <thead>\n",
       "    <tr style=\"text-align: right;\">\n",
       "      <th></th>\n",
       "      <th>Segment</th>\n",
       "      <th>Country</th>\n",
       "      <th>Sales</th>\n",
       "      <th>Profit</th>\n",
       "      <th>Order Priority</th>\n",
       "      <th>Category_Furniture</th>\n",
       "      <th>Category_Office Supplies</th>\n",
       "      <th>Category_Technology</th>\n",
       "    </tr>\n",
       "  </thead>\n",
       "  <tbody>\n",
       "    <tr>\n",
       "      <th>0</th>\n",
       "      <td>1.000000</td>\n",
       "      <td>1.000000</td>\n",
       "      <td>0.102006</td>\n",
       "      <td>0.0</td>\n",
       "      <td>0.055833</td>\n",
       "      <td>0.0</td>\n",
       "      <td>0.0</td>\n",
       "      <td>1.0</td>\n",
       "    </tr>\n",
       "    <tr>\n",
       "      <th>1</th>\n",
       "      <td>0.354352</td>\n",
       "      <td>0.283727</td>\n",
       "      <td>0.163837</td>\n",
       "      <td>0.0</td>\n",
       "      <td>0.055833</td>\n",
       "      <td>1.0</td>\n",
       "      <td>0.0</td>\n",
       "      <td>0.0</td>\n",
       "    </tr>\n",
       "    <tr>\n",
       "      <th>2</th>\n",
       "      <td>1.000000</td>\n",
       "      <td>0.283727</td>\n",
       "      <td>0.228586</td>\n",
       "      <td>0.0</td>\n",
       "      <td>1.000000</td>\n",
       "      <td>0.0</td>\n",
       "      <td>0.0</td>\n",
       "      <td>1.0</td>\n",
       "    </tr>\n",
       "    <tr>\n",
       "      <th>3</th>\n",
       "      <td>0.000000</td>\n",
       "      <td>0.206465</td>\n",
       "      <td>0.127753</td>\n",
       "      <td>0.0</td>\n",
       "      <td>1.000000</td>\n",
       "      <td>0.0</td>\n",
       "      <td>0.0</td>\n",
       "      <td>1.0</td>\n",
       "    </tr>\n",
       "    <tr>\n",
       "      <th>4</th>\n",
       "      <td>1.000000</td>\n",
       "      <td>0.011009</td>\n",
       "      <td>0.125122</td>\n",
       "      <td>0.0</td>\n",
       "      <td>0.055833</td>\n",
       "      <td>0.0</td>\n",
       "      <td>0.0</td>\n",
       "      <td>1.0</td>\n",
       "    </tr>\n",
       "  </tbody>\n",
       "</table>\n",
       "</div>"
      ],
      "text/plain": [
       "    Segment   Country     Sales  Profit  Order Priority  Category_Furniture  \\\n",
       "0  1.000000  1.000000  0.102006     0.0        0.055833                 0.0   \n",
       "1  0.354352  0.283727  0.163837     0.0        0.055833                 1.0   \n",
       "2  1.000000  0.283727  0.228586     0.0        1.000000                 0.0   \n",
       "3  0.000000  0.206465  0.127753     0.0        1.000000                 0.0   \n",
       "4  1.000000  0.011009  0.125122     0.0        0.055833                 0.0   \n",
       "\n",
       "   Category_Office Supplies  Category_Technology  \n",
       "0                       0.0                  1.0  \n",
       "1                       0.0                  0.0  \n",
       "2                       0.0                  1.0  \n",
       "3                       0.0                  1.0  \n",
       "4                       0.0                  1.0  "
      ]
     },
     "execution_count": 26,
     "metadata": {},
     "output_type": "execute_result"
    }
   ],
   "source": [
    "df = pd.read_pickle(\"../../datos/dataframes/df_clustering_encoded_scaled.pkl\")\n",
    "df_inicial = pd.read_pickle(\"../../datos/dataframes/df_inicial.pkl\")\n",
    "\n",
    "df.head()"
   ]
  },
  {
   "cell_type": "code",
   "execution_count": 27,
   "metadata": {},
   "outputs": [],
   "source": [
    "clust = sc.Clustering(df)\n",
    "#clust.sacar_clusters_kmeans()"
   ]
  },
  {
   "cell_type": "code",
   "execution_count": 28,
   "metadata": {},
   "outputs": [
    {
     "data": {
      "text/html": [
       "<div>\n",
       "<style scoped>\n",
       "    .dataframe tbody tr th:only-of-type {\n",
       "        vertical-align: middle;\n",
       "    }\n",
       "\n",
       "    .dataframe tbody tr th {\n",
       "        vertical-align: top;\n",
       "    }\n",
       "\n",
       "    .dataframe thead th {\n",
       "        text-align: right;\n",
       "    }\n",
       "</style>\n",
       "<table border=\"1\" class=\"dataframe\">\n",
       "  <thead>\n",
       "    <tr style=\"text-align: right;\">\n",
       "      <th></th>\n",
       "      <th>Segment</th>\n",
       "      <th>Country</th>\n",
       "      <th>Sales</th>\n",
       "      <th>Profit</th>\n",
       "      <th>Order Priority</th>\n",
       "      <th>Category_Furniture</th>\n",
       "      <th>Category_Office Supplies</th>\n",
       "      <th>Category_Technology</th>\n",
       "      <th>clusters_kmeans</th>\n",
       "    </tr>\n",
       "  </thead>\n",
       "  <tbody>\n",
       "    <tr>\n",
       "      <th>0</th>\n",
       "      <td>1.000000</td>\n",
       "      <td>1.000000</td>\n",
       "      <td>0.102006</td>\n",
       "      <td>0.0</td>\n",
       "      <td>0.055833</td>\n",
       "      <td>0.0</td>\n",
       "      <td>0.0</td>\n",
       "      <td>1.0</td>\n",
       "      <td>1</td>\n",
       "    </tr>\n",
       "    <tr>\n",
       "      <th>1</th>\n",
       "      <td>0.354352</td>\n",
       "      <td>0.283727</td>\n",
       "      <td>0.163837</td>\n",
       "      <td>0.0</td>\n",
       "      <td>0.055833</td>\n",
       "      <td>1.0</td>\n",
       "      <td>0.0</td>\n",
       "      <td>0.0</td>\n",
       "      <td>2</td>\n",
       "    </tr>\n",
       "    <tr>\n",
       "      <th>2</th>\n",
       "      <td>1.000000</td>\n",
       "      <td>0.283727</td>\n",
       "      <td>0.228586</td>\n",
       "      <td>0.0</td>\n",
       "      <td>1.000000</td>\n",
       "      <td>0.0</td>\n",
       "      <td>0.0</td>\n",
       "      <td>1.0</td>\n",
       "      <td>1</td>\n",
       "    </tr>\n",
       "    <tr>\n",
       "      <th>3</th>\n",
       "      <td>0.000000</td>\n",
       "      <td>0.206465</td>\n",
       "      <td>0.127753</td>\n",
       "      <td>0.0</td>\n",
       "      <td>1.000000</td>\n",
       "      <td>0.0</td>\n",
       "      <td>0.0</td>\n",
       "      <td>1.0</td>\n",
       "      <td>1</td>\n",
       "    </tr>\n",
       "    <tr>\n",
       "      <th>4</th>\n",
       "      <td>1.000000</td>\n",
       "      <td>0.011009</td>\n",
       "      <td>0.125122</td>\n",
       "      <td>0.0</td>\n",
       "      <td>0.055833</td>\n",
       "      <td>0.0</td>\n",
       "      <td>0.0</td>\n",
       "      <td>1.0</td>\n",
       "      <td>1</td>\n",
       "    </tr>\n",
       "  </tbody>\n",
       "</table>\n",
       "</div>"
      ],
      "text/plain": [
       "    Segment   Country     Sales  Profit  Order Priority  Category_Furniture  \\\n",
       "0  1.000000  1.000000  0.102006     0.0        0.055833                 0.0   \n",
       "1  0.354352  0.283727  0.163837     0.0        0.055833                 1.0   \n",
       "2  1.000000  0.283727  0.228586     0.0        1.000000                 0.0   \n",
       "3  0.000000  0.206465  0.127753     0.0        1.000000                 0.0   \n",
       "4  1.000000  0.011009  0.125122     0.0        0.055833                 0.0   \n",
       "\n",
       "   Category_Office Supplies  Category_Technology clusters_kmeans  \n",
       "0                       0.0                  1.0               1  \n",
       "1                       0.0                  0.0               2  \n",
       "2                       0.0                  1.0               1  \n",
       "3                       0.0                  1.0               1  \n",
       "4                       0.0                  1.0               1  "
      ]
     },
     "metadata": {},
     "output_type": "display_data"
    },
    {
     "data": {
      "text/html": [
       "<div>\n",
       "<style scoped>\n",
       "    .dataframe tbody tr th:only-of-type {\n",
       "        vertical-align: middle;\n",
       "    }\n",
       "\n",
       "    .dataframe tbody tr th {\n",
       "        vertical-align: top;\n",
       "    }\n",
       "\n",
       "    .dataframe thead th {\n",
       "        text-align: right;\n",
       "    }\n",
       "</style>\n",
       "<table border=\"1\" class=\"dataframe\">\n",
       "  <thead>\n",
       "    <tr style=\"text-align: right;\">\n",
       "      <th></th>\n",
       "      <th>silhouette_score</th>\n",
       "      <th>davies_bouldin_index</th>\n",
       "      <th>cardinalidad</th>\n",
       "    </tr>\n",
       "  </thead>\n",
       "  <tbody>\n",
       "    <tr>\n",
       "      <th>0</th>\n",
       "      <td>0.572761</td>\n",
       "      <td>0.716801</td>\n",
       "      <td>{0: 31273, 1: 10141, 2: 9876}</td>\n",
       "    </tr>\n",
       "  </tbody>\n",
       "</table>\n",
       "</div>"
      ],
      "text/plain": [
       "   silhouette_score  davies_bouldin_index                   cardinalidad\n",
       "0          0.572761              0.716801  {0: 31273, 1: 10141, 2: 9876}"
      ]
     },
     "execution_count": 28,
     "metadata": {},
     "output_type": "execute_result"
    }
   ],
   "source": [
    "k=3\n",
    "df_kmeans, labels = clust.modelo_kmeans(df, k)\n",
    "display(df_kmeans.head())\n",
    "clust.calcular_metricas(labels)"
   ]
  },
  {
   "cell_type": "code",
   "execution_count": 29,
   "metadata": {},
   "outputs": [],
   "source": [
    "#clust.plot_clusters()"
   ]
  },
  {
   "cell_type": "code",
   "execution_count": 30,
   "metadata": {},
   "outputs": [
    {
     "data": {
      "text/html": [
       "<div>\n",
       "<style scoped>\n",
       "    .dataframe tbody tr th:only-of-type {\n",
       "        vertical-align: middle;\n",
       "    }\n",
       "\n",
       "    .dataframe tbody tr th {\n",
       "        vertical-align: top;\n",
       "    }\n",
       "\n",
       "    .dataframe thead th {\n",
       "        text-align: right;\n",
       "    }\n",
       "</style>\n",
       "<table border=\"1\" class=\"dataframe\">\n",
       "  <thead>\n",
       "    <tr style=\"text-align: right;\">\n",
       "      <th></th>\n",
       "      <th>Segment</th>\n",
       "      <th>Country</th>\n",
       "      <th>Category</th>\n",
       "      <th>Sales</th>\n",
       "      <th>Profit</th>\n",
       "      <th>Order Priority</th>\n",
       "      <th>cluster_kmean</th>\n",
       "    </tr>\n",
       "  </thead>\n",
       "  <tbody>\n",
       "    <tr>\n",
       "      <th>0</th>\n",
       "      <td>Consumer</td>\n",
       "      <td>United States</td>\n",
       "      <td>Technology</td>\n",
       "      <td>2309.650</td>\n",
       "      <td>762.1845</td>\n",
       "      <td>Critical</td>\n",
       "      <td>1</td>\n",
       "    </tr>\n",
       "    <tr>\n",
       "      <th>1</th>\n",
       "      <td>Corporate</td>\n",
       "      <td>Australia</td>\n",
       "      <td>Furniture</td>\n",
       "      <td>3709.395</td>\n",
       "      <td>-288.7650</td>\n",
       "      <td>Critical</td>\n",
       "      <td>2</td>\n",
       "    </tr>\n",
       "    <tr>\n",
       "      <th>2</th>\n",
       "      <td>Consumer</td>\n",
       "      <td>Australia</td>\n",
       "      <td>Technology</td>\n",
       "      <td>5175.171</td>\n",
       "      <td>919.9710</td>\n",
       "      <td>Medium</td>\n",
       "      <td>1</td>\n",
       "    </tr>\n",
       "    <tr>\n",
       "      <th>3</th>\n",
       "      <td>Home Office</td>\n",
       "      <td>Germany</td>\n",
       "      <td>Technology</td>\n",
       "      <td>2892.510</td>\n",
       "      <td>-96.5400</td>\n",
       "      <td>Medium</td>\n",
       "      <td>1</td>\n",
       "    </tr>\n",
       "    <tr>\n",
       "      <th>4</th>\n",
       "      <td>Consumer</td>\n",
       "      <td>Senegal</td>\n",
       "      <td>Technology</td>\n",
       "      <td>2832.960</td>\n",
       "      <td>311.5200</td>\n",
       "      <td>Critical</td>\n",
       "      <td>1</td>\n",
       "    </tr>\n",
       "  </tbody>\n",
       "</table>\n",
       "</div>"
      ],
      "text/plain": [
       "       Segment        Country    Category     Sales    Profit Order Priority  \\\n",
       "0     Consumer  United States  Technology  2309.650  762.1845       Critical   \n",
       "1    Corporate      Australia   Furniture  3709.395 -288.7650       Critical   \n",
       "2     Consumer      Australia  Technology  5175.171  919.9710         Medium   \n",
       "3  Home Office        Germany  Technology  2892.510  -96.5400         Medium   \n",
       "4     Consumer        Senegal  Technology  2832.960  311.5200       Critical   \n",
       "\n",
       "  cluster_kmean  \n",
       "0             1  \n",
       "1             2  \n",
       "2             1  \n",
       "3             1  \n",
       "4             1  "
      ]
     },
     "execution_count": 30,
     "metadata": {},
     "output_type": "execute_result"
    }
   ],
   "source": [
    "df_inicial[\"cluster_kmean\"]=df_kmeans[\"clusters_kmeans\"]\n",
    "df_inicial.head()"
   ]
  },
  {
   "cell_type": "code",
   "execution_count": 43,
   "metadata": {},
   "outputs": [
    {
     "data": {
      "text/plain": [
       "3"
      ]
     },
     "execution_count": 43,
     "metadata": {},
     "output_type": "execute_result"
    }
   ],
   "source": [
    "from math import ceil\n",
    "ceil(len(df.columns)/3)"
   ]
  },
  {
   "cell_type": "code",
   "execution_count": null,
   "metadata": {},
   "outputs": [
    {
     "name": "stdout",
     "output_type": "stream",
     "text": [
      "columna: Segment\n",
      "columna: Country\n",
      "columna: Category\n",
      "columna: Order Priority\n",
      "columna: cluster_kmean\n"
     ]
    },
    {
     "data": {
      "image/png": "[encoded data removed]",
      "text/plain": [
       "<Figure size 1500x1000 with 6 Axes>"
      ]
     },
     "metadata": {},
     "output_type": "display_data"
    }
   ],
   "source": [
    "import seaborn as sns\n",
    "import matplotlib.pyplot as plt\n",
    "\n",
    "col_cat = df_inicial.select_dtypes(exclude=np.number).columns\n",
    "#col_num = df_inicial.select_dtypes(include=np.number).columns\n",
    "\n",
    "fig, axes = plt.subplots(nrows=ceil(len(col_cat)/3), ncols=3, figsize=(15,10))\n",
    "axes = axes.flat\n",
    "\n",
    "for indice, col in enumerate(col_cat):\n",
    "    print(f\"columna: {col}\")\n",
    "    sns.countplot(df_inicial, x=col, hue=\"cluster_kmean\", ax=axes[indice])\n",
    "\n",
    "# for col_n in col_num:\n",
    "#     indice += 1\n",
    "#     print(f\"columna: {col_n}\")\n",
    "#     sns.histplot(df_inicial, x=col_n, bins=10, hue=\"cluster_kmean\", ax=axes[indice])\n",
    "\n",
    "plt.tight_layout()\n",
    "plt.show()"
   ]
  },
  {
   "cell_type": "code",
   "execution_count": 32,
   "metadata": {},
   "outputs": [
    {
     "data": {
      "image/png": "[encoded data removed]",
      "text/plain": [
       "<Figure size 500x500 with 1 Axes>"
      ]
     },
     "metadata": {},
     "output_type": "display_data"
    }
   ],
   "source": [
    "clust.radar_plot(\"kmeans\", figsize=(5, 5))"
   ]
  },
  {
   "cell_type": "markdown",
   "metadata": {},
   "source": [
    "# **Aglomerativo**"
   ]
  },
  {
   "cell_type": "code",
   "execution_count": null,
   "metadata": {},
   "outputs": [],
   "source": [
    "cluster = sc.Clustering(df)"
   ]
  },
  {
   "cell_type": "code",
   "execution_count": null,
   "metadata": {},
   "outputs": [
    {
     "name": "stderr",
     "output_type": "stream",
     "text": [
      "  0%|          | 0/3 [00:00<?, ?it/s]"
     ]
    },
    {
     "name": "stdout",
     "output_type": "stream",
     "text": [
      "Estoy ejecutando single con euclidean y 2 clusters\n"
     ]
    },
    {
     "name": "stderr",
     "output_type": "stream",
     "text": [
      " 33%|███▎      | 1/3 [00:53<01:46, 53.31s/it]"
     ]
    },
    {
     "name": "stdout",
     "output_type": "stream",
     "text": [
      "Estoy ejecutando single con euclidean y 3 clusters\n"
     ]
    },
    {
     "name": "stderr",
     "output_type": "stream",
     "text": [
      " 67%|██████▋   | 2/3 [01:43<00:51, 51.56s/it]"
     ]
    },
    {
     "name": "stdout",
     "output_type": "stream",
     "text": [
      "Estoy ejecutando single con euclidean y 4 clusters\n"
     ]
    },
    {
     "name": "stderr",
     "output_type": "stream",
     "text": [
      "100%|██████████| 3/3 [02:36<00:00, 52.26s/it]\n",
      "  0%|          | 0/3 [00:00<?, ?it/s]"
     ]
    },
    {
     "name": "stdout",
     "output_type": "stream",
     "text": [
      "Estoy ejecutando complete con euclidean y 2 clusters\n"
     ]
    },
    {
     "name": "stderr",
     "output_type": "stream",
     "text": [
      " 33%|███▎      | 1/3 [09:10<18:21, 550.54s/it]"
     ]
    },
    {
     "name": "stdout",
     "output_type": "stream",
     "text": [
      "Estoy ejecutando complete con euclidean y 3 clusters\n"
     ]
    },
    {
     "name": "stderr",
     "output_type": "stream",
     "text": [
      " 67%|██████▋   | 2/3 [18:43<09:23, 563.75s/it]"
     ]
    },
    {
     "name": "stdout",
     "output_type": "stream",
     "text": [
      "Estoy ejecutando complete con euclidean y 4 clusters\n"
     ]
    },
    {
     "name": "stderr",
     "output_type": "stream",
     "text": [
      "100%|██████████| 3/3 [30:03<00:00, 601.33s/it]\n"
     ]
    }
   ],
   "source": [
    "df_aglomerativo = cluster.modelo_aglomerativo(clusters_min=2, clusters_max=5, linkage_methods = ['single', 'complete'], distance_metrics = ['euclidean'])"
   ]
  },
  {
   "cell_type": "code",
   "execution_count": 35,
   "metadata": {},
   "outputs": [
    {
     "data": {
      "text/html": [
       "<div>\n",
       "<style scoped>\n",
       "    .dataframe tbody tr th:only-of-type {\n",
       "        vertical-align: middle;\n",
       "    }\n",
       "\n",
       "    .dataframe tbody tr th {\n",
       "        vertical-align: top;\n",
       "    }\n",
       "\n",
       "    .dataframe thead th {\n",
       "        text-align: right;\n",
       "    }\n",
       "</style>\n",
       "<table border=\"1\" class=\"dataframe\">\n",
       "  <thead>\n",
       "    <tr style=\"text-align: right;\">\n",
       "      <th></th>\n",
       "      <th>linkage</th>\n",
       "      <th>metric</th>\n",
       "      <th>silhouette_score</th>\n",
       "      <th>davies_bouldin_index</th>\n",
       "      <th>cluster_cardinality</th>\n",
       "      <th>n_cluster</th>\n",
       "    </tr>\n",
       "  </thead>\n",
       "  <tbody>\n",
       "    <tr>\n",
       "      <th>1</th>\n",
       "      <td>single</td>\n",
       "      <td>euclidean</td>\n",
       "      <td>0.502276</td>\n",
       "      <td>0.883333</td>\n",
       "      <td>{0: 10141, 1: 9876, 2: 31273}</td>\n",
       "      <td>3</td>\n",
       "    </tr>\n",
       "    <tr>\n",
       "      <th>4</th>\n",
       "      <td>complete</td>\n",
       "      <td>euclidean</td>\n",
       "      <td>0.502276</td>\n",
       "      <td>0.883333</td>\n",
       "      <td>{0: 10141, 1: 31273, 2: 9876}</td>\n",
       "      <td>3</td>\n",
       "    </tr>\n",
       "    <tr>\n",
       "      <th>5</th>\n",
       "      <td>complete</td>\n",
       "      <td>euclidean</td>\n",
       "      <td>0.474280</td>\n",
       "      <td>1.012096</td>\n",
       "      <td>{0: 31273, 1: 10039, 2: 9876, 3: 102}</td>\n",
       "      <td>4</td>\n",
       "    </tr>\n",
       "    <tr>\n",
       "      <th>2</th>\n",
       "      <td>single</td>\n",
       "      <td>euclidean</td>\n",
       "      <td>0.474280</td>\n",
       "      <td>1.012096</td>\n",
       "      <td>{0: 9876, 1: 102, 2: 31273, 3: 10039}</td>\n",
       "      <td>4</td>\n",
       "    </tr>\n",
       "    <tr>\n",
       "      <th>3</th>\n",
       "      <td>complete</td>\n",
       "      <td>euclidean</td>\n",
       "      <td>0.355517</td>\n",
       "      <td>1.142095</td>\n",
       "      <td>{0: 41149, 1: 10141}</td>\n",
       "      <td>2</td>\n",
       "    </tr>\n",
       "    <tr>\n",
       "      <th>0</th>\n",
       "      <td>single</td>\n",
       "      <td>euclidean</td>\n",
       "      <td>0.352957</td>\n",
       "      <td>1.155943</td>\n",
       "      <td>{0: 41414, 1: 9876}</td>\n",
       "      <td>2</td>\n",
       "    </tr>\n",
       "  </tbody>\n",
       "</table>\n",
       "</div>"
      ],
      "text/plain": [
       "    linkage     metric  silhouette_score  davies_bouldin_index  \\\n",
       "1    single  euclidean          0.502276              0.883333   \n",
       "4  complete  euclidean          0.502276              0.883333   \n",
       "5  complete  euclidean          0.474280              1.012096   \n",
       "2    single  euclidean          0.474280              1.012096   \n",
       "3  complete  euclidean          0.355517              1.142095   \n",
       "0    single  euclidean          0.352957              1.155943   \n",
       "\n",
       "                     cluster_cardinality  n_cluster  \n",
       "1          {0: 10141, 1: 9876, 2: 31273}          3  \n",
       "4          {0: 10141, 1: 31273, 2: 9876}          3  \n",
       "5  {0: 31273, 1: 10039, 2: 9876, 3: 102}          4  \n",
       "2  {0: 9876, 1: 102, 2: 31273, 3: 10039}          4  \n",
       "3                   {0: 41149, 1: 10141}          2  \n",
       "0                    {0: 41414, 1: 9876}          2  "
      ]
     },
     "execution_count": 35,
     "metadata": {},
     "output_type": "execute_result"
    }
   ],
   "source": [
    "df_aglomerativo"
   ]
  },
  {
   "cell_type": "code",
   "execution_count": 38,
   "metadata": {},
   "outputs": [
    {
     "name": "stderr",
     "output_type": "stream",
     "text": [
      "  0%|          | 0/3 [00:00<?, ?it/s]"
     ]
    },
    {
     "name": "stdout",
     "output_type": "stream",
     "text": [
      "Estoy ejecutando ward con euclidean y 2 clusters\n"
     ]
    },
    {
     "name": "stderr",
     "output_type": "stream",
     "text": [
      " 33%|███▎      | 1/3 [17:07<34:15, 1027.69s/it]"
     ]
    },
    {
     "name": "stdout",
     "output_type": "stream",
     "text": [
      "Estoy ejecutando ward con euclidean y 3 clusters\n"
     ]
    },
    {
     "name": "stderr",
     "output_type": "stream",
     "text": [
      " 67%|██████▋   | 2/3 [31:59<15:47, 947.96s/it] "
     ]
    },
    {
     "name": "stdout",
     "output_type": "stream",
     "text": [
      "Estoy ejecutando ward con euclidean y 4 clusters\n"
     ]
    },
    {
     "name": "stderr",
     "output_type": "stream",
     "text": [
      "100%|██████████| 3/3 [40:23<00:00, 807.76s/it]\n"
     ]
    }
   ],
   "source": [
    "df_aglomerativo_2 = cluster.modelo_aglomerativo(clusters_min=2, clusters_max=5, linkage_methods = ['ward'], distance_metrics = ['euclidean'])"
   ]
  },
  {
   "cell_type": "code",
   "execution_count": 39,
   "metadata": {},
   "outputs": [
    {
     "data": {
      "text/html": [
       "<div>\n",
       "<style scoped>\n",
       "    .dataframe tbody tr th:only-of-type {\n",
       "        vertical-align: middle;\n",
       "    }\n",
       "\n",
       "    .dataframe tbody tr th {\n",
       "        vertical-align: top;\n",
       "    }\n",
       "\n",
       "    .dataframe thead th {\n",
       "        text-align: right;\n",
       "    }\n",
       "</style>\n",
       "<table border=\"1\" class=\"dataframe\">\n",
       "  <thead>\n",
       "    <tr style=\"text-align: right;\">\n",
       "      <th></th>\n",
       "      <th>linkage</th>\n",
       "      <th>metric</th>\n",
       "      <th>silhouette_score</th>\n",
       "      <th>davies_bouldin_index</th>\n",
       "      <th>cluster_cardinality</th>\n",
       "      <th>n_cluster</th>\n",
       "    </tr>\n",
       "  </thead>\n",
       "  <tbody>\n",
       "    <tr>\n",
       "      <th>1</th>\n",
       "      <td>ward</td>\n",
       "      <td>euclidean</td>\n",
       "      <td>0.497427</td>\n",
       "      <td>0.888377</td>\n",
       "      <td>{0: 31489, 1: 9762, 2: 10039}</td>\n",
       "      <td>3</td>\n",
       "    </tr>\n",
       "    <tr>\n",
       "      <th>0</th>\n",
       "      <td>ward</td>\n",
       "      <td>euclidean</td>\n",
       "      <td>0.401244</td>\n",
       "      <td>1.298281</td>\n",
       "      <td>{0: 19801, 1: 31489}</td>\n",
       "      <td>2</td>\n",
       "    </tr>\n",
       "    <tr>\n",
       "      <th>2</th>\n",
       "      <td>ward</td>\n",
       "      <td>euclidean</td>\n",
       "      <td>0.390381</td>\n",
       "      <td>1.124202</td>\n",
       "      <td>{0: 19467, 1: 12022, 2: 10039, 3: 9762}</td>\n",
       "      <td>4</td>\n",
       "    </tr>\n",
       "  </tbody>\n",
       "</table>\n",
       "</div>"
      ],
      "text/plain": [
       "  linkage     metric  silhouette_score  davies_bouldin_index  \\\n",
       "1    ward  euclidean          0.497427              0.888377   \n",
       "0    ward  euclidean          0.401244              1.298281   \n",
       "2    ward  euclidean          0.390381              1.124202   \n",
       "\n",
       "                       cluster_cardinality  n_cluster  \n",
       "1            {0: 31489, 1: 9762, 2: 10039}          3  \n",
       "0                     {0: 19801, 1: 31489}          2  \n",
       "2  {0: 19467, 1: 12022, 2: 10039, 3: 9762}          4  "
      ]
     },
     "execution_count": 39,
     "metadata": {},
     "output_type": "execute_result"
    }
   ],
   "source": [
    "df_aglomerativo_2"
   ]
  },
  {
   "cell_type": "markdown",
   "metadata": {},
   "source": [
    "# **DBSCAN**"
   ]
  },
  {
   "cell_type": "code",
   "execution_count": null,
   "metadata": {},
   "outputs": [
    {
     "data": {
      "text/html": [
       "<div>\n",
       "<style scoped>\n",
       "    .dataframe tbody tr th:only-of-type {\n",
       "        vertical-align: middle;\n",
       "    }\n",
       "\n",
       "    .dataframe tbody tr th {\n",
       "        vertical-align: top;\n",
       "    }\n",
       "\n",
       "    .dataframe thead th {\n",
       "        text-align: right;\n",
       "    }\n",
       "</style>\n",
       "<table border=\"1\" class=\"dataframe\">\n",
       "  <thead>\n",
       "    <tr style=\"text-align: right;\">\n",
       "      <th></th>\n",
       "      <th>Segment</th>\n",
       "      <th>Country</th>\n",
       "      <th>Sales</th>\n",
       "      <th>Profit</th>\n",
       "      <th>Order Priority</th>\n",
       "      <th>Category_Furniture</th>\n",
       "      <th>Category_Office Supplies</th>\n",
       "      <th>Category_Technology</th>\n",
       "    </tr>\n",
       "  </thead>\n",
       "  <tbody>\n",
       "    <tr>\n",
       "      <th>0</th>\n",
       "      <td>1.000000</td>\n",
       "      <td>1.000000</td>\n",
       "      <td>0.102006</td>\n",
       "      <td>0.0</td>\n",
       "      <td>0.055833</td>\n",
       "      <td>0.0</td>\n",
       "      <td>0.0</td>\n",
       "      <td>1.0</td>\n",
       "    </tr>\n",
       "    <tr>\n",
       "      <th>1</th>\n",
       "      <td>0.354352</td>\n",
       "      <td>0.283727</td>\n",
       "      <td>0.163837</td>\n",
       "      <td>0.0</td>\n",
       "      <td>0.055833</td>\n",
       "      <td>1.0</td>\n",
       "      <td>0.0</td>\n",
       "      <td>0.0</td>\n",
       "    </tr>\n",
       "    <tr>\n",
       "      <th>2</th>\n",
       "      <td>1.000000</td>\n",
       "      <td>0.283727</td>\n",
       "      <td>0.228586</td>\n",
       "      <td>0.0</td>\n",
       "      <td>1.000000</td>\n",
       "      <td>0.0</td>\n",
       "      <td>0.0</td>\n",
       "      <td>1.0</td>\n",
       "    </tr>\n",
       "    <tr>\n",
       "      <th>3</th>\n",
       "      <td>0.000000</td>\n",
       "      <td>0.206465</td>\n",
       "      <td>0.127753</td>\n",
       "      <td>0.0</td>\n",
       "      <td>1.000000</td>\n",
       "      <td>0.0</td>\n",
       "      <td>0.0</td>\n",
       "      <td>1.0</td>\n",
       "    </tr>\n",
       "    <tr>\n",
       "      <th>4</th>\n",
       "      <td>1.000000</td>\n",
       "      <td>0.011009</td>\n",
       "      <td>0.125122</td>\n",
       "      <td>0.0</td>\n",
       "      <td>0.055833</td>\n",
       "      <td>0.0</td>\n",
       "      <td>0.0</td>\n",
       "      <td>1.0</td>\n",
       "    </tr>\n",
       "  </tbody>\n",
       "</table>\n",
       "</div>"
      ],
      "text/plain": [
       "    Segment   Country     Sales  Profit  Order Priority  Category_Furniture  \\\n",
       "0  1.000000  1.000000  0.102006     0.0        0.055833                 0.0   \n",
       "1  0.354352  0.283727  0.163837     0.0        0.055833                 1.0   \n",
       "2  1.000000  0.283727  0.228586     0.0        1.000000                 0.0   \n",
       "3  0.000000  0.206465  0.127753     0.0        1.000000                 0.0   \n",
       "4  1.000000  0.011009  0.125122     0.0        0.055833                 0.0   \n",
       "\n",
       "   Category_Office Supplies  Category_Technology  \n",
       "0                       0.0                  1.0  \n",
       "1                       0.0                  0.0  \n",
       "2                       0.0                  1.0  \n",
       "3                       0.0                  1.0  \n",
       "4                       0.0                  1.0  "
      ]
     },
     "execution_count": 60,
     "metadata": {},
     "output_type": "execute_result"
    }
   ],
   "source": [
    "df = pd.read_pickle(\"../../datos/dataframes/df_clustering_encoded_scaled.pkl\")\n",
    "df_inicial = pd.read_pickle(\"../../datos/dataframes/df_inicial.pkl\")\n",
    "\n",
    "df.head()"
   ]
  },
  {
   "cell_type": "code",
   "execution_count": 61,
   "metadata": {},
   "outputs": [],
   "source": [
    "cluster = sc.Clustering(df)"
   ]
  },
  {
   "cell_type": "code",
   "execution_count": 35,
   "metadata": {},
   "outputs": [
    {
     "data": {
      "text/html": [
       "<div>\n",
       "<style scoped>\n",
       "    .dataframe tbody tr th:only-of-type {\n",
       "        vertical-align: middle;\n",
       "    }\n",
       "\n",
       "    .dataframe tbody tr th {\n",
       "        vertical-align: top;\n",
       "    }\n",
       "\n",
       "    .dataframe thead th {\n",
       "        text-align: right;\n",
       "    }\n",
       "</style>\n",
       "<table border=\"1\" class=\"dataframe\">\n",
       "  <thead>\n",
       "    <tr style=\"text-align: right;\">\n",
       "      <th></th>\n",
       "      <th>eps</th>\n",
       "      <th>min_samples</th>\n",
       "      <th>silhouette_score</th>\n",
       "      <th>davies_bouldin_score</th>\n",
       "      <th>cardinality</th>\n",
       "    </tr>\n",
       "  </thead>\n",
       "  <tbody>\n",
       "    <tr>\n",
       "      <th>0</th>\n",
       "      <td>1.0</td>\n",
       "      <td>2000</td>\n",
       "      <td>0.502276</td>\n",
       "      <td>0.883333</td>\n",
       "      <td>{0: 10141, 1: 9876, 2: 31273}</td>\n",
       "    </tr>\n",
       "  </tbody>\n",
       "</table>\n",
       "</div>"
      ],
      "text/plain": [
       "   eps  min_samples  silhouette_score  davies_bouldin_score  \\\n",
       "0  1.0         2000          0.502276              0.883333   \n",
       "\n",
       "                     cardinality  \n",
       "0  {0: 10141, 1: 9876, 2: 31273}  "
      ]
     },
     "metadata": {},
     "output_type": "display_data"
    },
    {
     "name": "stdout",
     "output_type": "stream",
     "text": [
      "best_eps: 1.0, best_min_samples: 2000\n"
     ]
    }
   ],
   "source": [
    "df_cluster_dbscan = cluster.modelo_dbscan(df, eps_values=[1.0], min_samples_values=[2000])"
   ]
  },
  {
   "cell_type": "code",
   "execution_count": 36,
   "metadata": {},
   "outputs": [
    {
     "data": {
      "text/html": [
       "<div>\n",
       "<style scoped>\n",
       "    .dataframe tbody tr th:only-of-type {\n",
       "        vertical-align: middle;\n",
       "    }\n",
       "\n",
       "    .dataframe tbody tr th {\n",
       "        vertical-align: top;\n",
       "    }\n",
       "\n",
       "    .dataframe thead th {\n",
       "        text-align: right;\n",
       "    }\n",
       "</style>\n",
       "<table border=\"1\" class=\"dataframe\">\n",
       "  <thead>\n",
       "    <tr style=\"text-align: right;\">\n",
       "      <th></th>\n",
       "      <th>eps</th>\n",
       "      <th>min_samples</th>\n",
       "      <th>silhouette_score</th>\n",
       "      <th>davies_bouldin_score</th>\n",
       "      <th>cardinality</th>\n",
       "    </tr>\n",
       "  </thead>\n",
       "  <tbody>\n",
       "    <tr>\n",
       "      <th>0</th>\n",
       "      <td>1.0</td>\n",
       "      <td>5000</td>\n",
       "      <td>0.551756</td>\n",
       "      <td>0.963226</td>\n",
       "      <td>{-1: 40, 0: 9842, 1: 10135, 2: 31273}</td>\n",
       "    </tr>\n",
       "  </tbody>\n",
       "</table>\n",
       "</div>"
      ],
      "text/plain": [
       "   eps  min_samples  silhouette_score  davies_bouldin_score  \\\n",
       "0  1.0         5000          0.551756              0.963226   \n",
       "\n",
       "                             cardinality  \n",
       "0  {-1: 40, 0: 9842, 1: 10135, 2: 31273}  "
      ]
     },
     "metadata": {},
     "output_type": "display_data"
    },
    {
     "name": "stdout",
     "output_type": "stream",
     "text": [
      "best_eps: 1.0, best_min_samples: 5000\n"
     ]
    }
   ],
   "source": [
    "df_cluster_dbscan = cluster.modelo_dbscan(df, eps_values=[1.0], min_samples_values=[5000])"
   ]
  },
  {
   "cell_type": "code",
   "execution_count": 37,
   "metadata": {},
   "outputs": [
    {
     "data": {
      "text/html": [
       "<div>\n",
       "<style scoped>\n",
       "    .dataframe tbody tr th:only-of-type {\n",
       "        vertical-align: middle;\n",
       "    }\n",
       "\n",
       "    .dataframe tbody tr th {\n",
       "        vertical-align: top;\n",
       "    }\n",
       "\n",
       "    .dataframe thead th {\n",
       "        text-align: right;\n",
       "    }\n",
       "</style>\n",
       "<table border=\"1\" class=\"dataframe\">\n",
       "  <thead>\n",
       "    <tr style=\"text-align: right;\">\n",
       "      <th></th>\n",
       "      <th>eps</th>\n",
       "      <th>min_samples</th>\n",
       "      <th>silhouette_score</th>\n",
       "      <th>davies_bouldin_score</th>\n",
       "      <th>cardinality</th>\n",
       "    </tr>\n",
       "  </thead>\n",
       "  <tbody>\n",
       "    <tr>\n",
       "      <th>0</th>\n",
       "      <td>1.0</td>\n",
       "      <td>1000</td>\n",
       "      <td>0.567208</td>\n",
       "      <td>0.798142</td>\n",
       "      <td>{-1: 40, 0: 10135, 1: 9842, 2: 31273}</td>\n",
       "    </tr>\n",
       "  </tbody>\n",
       "</table>\n",
       "</div>"
      ],
      "text/plain": [
       "   eps  min_samples  silhouette_score  davies_bouldin_score  \\\n",
       "0  1.0         1000          0.567208              0.798142   \n",
       "\n",
       "                             cardinality  \n",
       "0  {-1: 40, 0: 10135, 1: 9842, 2: 31273}  "
      ]
     },
     "metadata": {},
     "output_type": "display_data"
    },
    {
     "name": "stdout",
     "output_type": "stream",
     "text": [
      "best_eps: 1.0, best_min_samples: 1000\n"
     ]
    }
   ],
   "source": [
    "df_cluster_dbscan = cluster.modelo_dbscan(df, eps_values=[1.0], min_samples_values=[1000])"
   ]
  },
  {
   "cell_type": "code",
   "execution_count": 52,
   "metadata": {},
   "outputs": [
    {
     "data": {
      "text/html": [
       "<div>\n",
       "<style scoped>\n",
       "    .dataframe tbody tr th:only-of-type {\n",
       "        vertical-align: middle;\n",
       "    }\n",
       "\n",
       "    .dataframe tbody tr th {\n",
       "        vertical-align: top;\n",
       "    }\n",
       "\n",
       "    .dataframe thead th {\n",
       "        text-align: right;\n",
       "    }\n",
       "</style>\n",
       "<table border=\"1\" class=\"dataframe\">\n",
       "  <thead>\n",
       "    <tr style=\"text-align: right;\">\n",
       "      <th></th>\n",
       "      <th>eps</th>\n",
       "      <th>min_samples</th>\n",
       "      <th>silhouette_score</th>\n",
       "      <th>davies_bouldin_score</th>\n",
       "      <th>cardinality</th>\n",
       "    </tr>\n",
       "  </thead>\n",
       "  <tbody>\n",
       "    <tr>\n",
       "      <th>0</th>\n",
       "      <td>0.5</td>\n",
       "      <td>2000</td>\n",
       "      <td>0.275448</td>\n",
       "      <td>1.139844</td>\n",
       "      <td>{-1: 17292, 0: 2388, 1: 2332, 2: 5579, 3: 5005...</td>\n",
       "    </tr>\n",
       "  </tbody>\n",
       "</table>\n",
       "</div>"
      ],
      "text/plain": [
       "   eps  min_samples  silhouette_score  davies_bouldin_score  \\\n",
       "0  0.5         2000          0.275448              1.139844   \n",
       "\n",
       "                                         cardinality  \n",
       "0  {-1: 17292, 0: 2388, 1: 2332, 2: 5579, 3: 5005...  "
      ]
     },
     "metadata": {},
     "output_type": "display_data"
    },
    {
     "name": "stdout",
     "output_type": "stream",
     "text": [
      "best_eps: 0.5, best_min_samples: 2000\n"
     ]
    }
   ],
   "source": [
    "df_cluster_dbscan = cluster.modelo_dbscan(df, eps_values=[0.5], min_samples_values=[2000])"
   ]
  },
  {
   "cell_type": "code",
   "execution_count": 53,
   "metadata": {},
   "outputs": [
    {
     "data": {
      "text/html": [
       "<div>\n",
       "<style scoped>\n",
       "    .dataframe tbody tr th:only-of-type {\n",
       "        vertical-align: middle;\n",
       "    }\n",
       "\n",
       "    .dataframe tbody tr th {\n",
       "        vertical-align: top;\n",
       "    }\n",
       "\n",
       "    .dataframe thead th {\n",
       "        text-align: right;\n",
       "    }\n",
       "</style>\n",
       "<table border=\"1\" class=\"dataframe\">\n",
       "  <thead>\n",
       "    <tr style=\"text-align: right;\">\n",
       "      <th></th>\n",
       "      <th>eps</th>\n",
       "      <th>min_samples</th>\n",
       "      <th>silhouette_score</th>\n",
       "      <th>davies_bouldin_score</th>\n",
       "      <th>cardinality</th>\n",
       "    </tr>\n",
       "  </thead>\n",
       "  <tbody>\n",
       "    <tr>\n",
       "      <th>0</th>\n",
       "      <td>0.5</td>\n",
       "      <td>1000</td>\n",
       "      <td>0.709076</td>\n",
       "      <td>0.702868</td>\n",
       "      <td>{-1: 4600, 0: 2388, 1: 2332, 2: 1877, 3: 1656,...</td>\n",
       "    </tr>\n",
       "  </tbody>\n",
       "</table>\n",
       "</div>"
      ],
      "text/plain": [
       "   eps  min_samples  silhouette_score  davies_bouldin_score  \\\n",
       "0  0.5         1000          0.709076              0.702868   \n",
       "\n",
       "                                         cardinality  \n",
       "0  {-1: 4600, 0: 2388, 1: 2332, 2: 1877, 3: 1656,...  "
      ]
     },
     "metadata": {},
     "output_type": "display_data"
    },
    {
     "name": "stdout",
     "output_type": "stream",
     "text": [
      "best_eps: 0.5, best_min_samples: 1000\n"
     ]
    }
   ],
   "source": [
    "df_cluster_dbscan = cluster.modelo_dbscan(df, eps_values=[0.5], min_samples_values=[1000])"
   ]
  },
  {
   "cell_type": "code",
   "execution_count": 64,
   "metadata": {},
   "outputs": [
    {
     "data": {
      "text/html": [
       "<div>\n",
       "<style scoped>\n",
       "    .dataframe tbody tr th:only-of-type {\n",
       "        vertical-align: middle;\n",
       "    }\n",
       "\n",
       "    .dataframe tbody tr th {\n",
       "        vertical-align: top;\n",
       "    }\n",
       "\n",
       "    .dataframe thead th {\n",
       "        text-align: right;\n",
       "    }\n",
       "</style>\n",
       "<table border=\"1\" class=\"dataframe\">\n",
       "  <thead>\n",
       "    <tr style=\"text-align: right;\">\n",
       "      <th></th>\n",
       "      <th>eps</th>\n",
       "      <th>min_samples</th>\n",
       "      <th>silhouette_score</th>\n",
       "      <th>davies_bouldin_score</th>\n",
       "      <th>cardinality</th>\n",
       "      <th>num_clusters</th>\n",
       "    </tr>\n",
       "  </thead>\n",
       "  <tbody>\n",
       "    <tr>\n",
       "      <th>0</th>\n",
       "      <td>0.5</td>\n",
       "      <td>1000</td>\n",
       "      <td>0.574955</td>\n",
       "      <td>0.964796</td>\n",
       "      <td>{-1: 4600, 0: 2388, 1: 2332, 2: 1877, 3: 1656,...</td>\n",
       "      <td>17</td>\n",
       "    </tr>\n",
       "  </tbody>\n",
       "</table>\n",
       "</div>"
      ],
      "text/plain": [
       "   eps  min_samples  silhouette_score  davies_bouldin_score  \\\n",
       "0  0.5         1000          0.574955              0.964796   \n",
       "\n",
       "                                         cardinality  num_clusters  \n",
       "0  {-1: 4600, 0: 2388, 1: 2332, 2: 1877, 3: 1656,...            17  "
      ]
     },
     "metadata": {},
     "output_type": "display_data"
    },
    {
     "name": "stdout",
     "output_type": "stream",
     "text": [
      "best_eps: 0.5, best_min_samples: 1000\n"
     ]
    }
   ],
   "source": [
    "df_cluster_dbscan = cluster.modelo_dbscan(df, eps_values=[0.5], min_samples_values=[1000])"
   ]
  },
  {
   "cell_type": "code",
   "execution_count": 56,
   "metadata": {},
   "outputs": [
    {
     "data": {
      "text/html": [
       "<div>\n",
       "<style scoped>\n",
       "    .dataframe tbody tr th:only-of-type {\n",
       "        vertical-align: middle;\n",
       "    }\n",
       "\n",
       "    .dataframe tbody tr th {\n",
       "        vertical-align: top;\n",
       "    }\n",
       "\n",
       "    .dataframe thead th {\n",
       "        text-align: right;\n",
       "    }\n",
       "</style>\n",
       "<table border=\"1\" class=\"dataframe\">\n",
       "  <thead>\n",
       "    <tr style=\"text-align: right;\">\n",
       "      <th></th>\n",
       "      <th>eps</th>\n",
       "      <th>min_samples</th>\n",
       "      <th>silhouette_score</th>\n",
       "      <th>davies_bouldin_score</th>\n",
       "      <th>cardinality</th>\n",
       "      <th>num_clusters</th>\n",
       "    </tr>\n",
       "  </thead>\n",
       "  <tbody>\n",
       "    <tr>\n",
       "      <th>3</th>\n",
       "      <td>1.0</td>\n",
       "      <td>1000</td>\n",
       "      <td>0.817302</td>\n",
       "      <td>0.359237</td>\n",
       "      <td>{-1: 635, 0: 1846, 1: 1564, 2: 2388, 3: 2332, ...</td>\n",
       "      <td>19</td>\n",
       "    </tr>\n",
       "    <tr>\n",
       "      <th>0</th>\n",
       "      <td>0.5</td>\n",
       "      <td>1000</td>\n",
       "      <td>0.791429</td>\n",
       "      <td>0.329758</td>\n",
       "      <td>{-1: 4600, 0: 2388, 1: 2332, 2: 1877, 3: 1656,...</td>\n",
       "      <td>17</td>\n",
       "    </tr>\n",
       "    <tr>\n",
       "      <th>6</th>\n",
       "      <td>1.5</td>\n",
       "      <td>1000</td>\n",
       "      <td>0.558434</td>\n",
       "      <td>0.431441</td>\n",
       "      <td>{0: 11197, 1: 1564, 2: 1598, 3: 1656, 4: 1261,...</td>\n",
       "      <td>10</td>\n",
       "    </tr>\n",
       "    <tr>\n",
       "      <th>10</th>\n",
       "      <td>2.0</td>\n",
       "      <td>5000</td>\n",
       "      <td>0.525874</td>\n",
       "      <td>0.462907</td>\n",
       "      <td>{-1: 609, 0: 12853, 1: 18956, 2: 18872}</td>\n",
       "      <td>4</td>\n",
       "    </tr>\n",
       "    <tr>\n",
       "      <th>11</th>\n",
       "      <td>2.0</td>\n",
       "      <td>10000</td>\n",
       "      <td>0.487576</td>\n",
       "      <td>1.112057</td>\n",
       "      <td>{-1: 18497, 0: 13147, 1: 19646}</td>\n",
       "      <td>3</td>\n",
       "    </tr>\n",
       "    <tr>\n",
       "      <th>7</th>\n",
       "      <td>1.5</td>\n",
       "      <td>2000</td>\n",
       "      <td>0.462634</td>\n",
       "      <td>2.193643</td>\n",
       "      <td>{-1: 7836, 0: 11061, 1: 10584, 2: 2163, 3: 173...</td>\n",
       "      <td>6</td>\n",
       "    </tr>\n",
       "    <tr>\n",
       "      <th>4</th>\n",
       "      <td>1.0</td>\n",
       "      <td>2000</td>\n",
       "      <td>0.390366</td>\n",
       "      <td>1.867707</td>\n",
       "      <td>{-1: 15202, 0: 2388, 1: 2332, 2: 5579, 3: 5005...</td>\n",
       "      <td>10</td>\n",
       "    </tr>\n",
       "    <tr>\n",
       "      <th>8</th>\n",
       "      <td>1.5</td>\n",
       "      <td>5000</td>\n",
       "      <td>0.365862</td>\n",
       "      <td>3.028379</td>\n",
       "      <td>{-1: 15892, 0: 7459, 1: 10584, 2: 17355}</td>\n",
       "      <td>4</td>\n",
       "    </tr>\n",
       "    <tr>\n",
       "      <th>1</th>\n",
       "      <td>0.5</td>\n",
       "      <td>2000</td>\n",
       "      <td>0.332382</td>\n",
       "      <td>1.555966</td>\n",
       "      <td>{-1: 17292, 0: 2388, 1: 2332, 2: 5579, 3: 5005...</td>\n",
       "      <td>9</td>\n",
       "    </tr>\n",
       "    <tr>\n",
       "      <th>9</th>\n",
       "      <td>1.5</td>\n",
       "      <td>10000</td>\n",
       "      <td>0.289141</td>\n",
       "      <td>2.394799</td>\n",
       "      <td>{-1: 25520, 0: 10584, 1: 15186}</td>\n",
       "      <td>3</td>\n",
       "    </tr>\n",
       "    <tr>\n",
       "      <th>5</th>\n",
       "      <td>1.0</td>\n",
       "      <td>5000</td>\n",
       "      <td>0.205056</td>\n",
       "      <td>2.389518</td>\n",
       "      <td>{-1: 26466, 0: 5579, 1: 5005, 2: 7223, 3: 7017}</td>\n",
       "      <td>5</td>\n",
       "    </tr>\n",
       "    <tr>\n",
       "      <th>2</th>\n",
       "      <td>0.5</td>\n",
       "      <td>5000</td>\n",
       "      <td>0.093519</td>\n",
       "      <td>2.533776</td>\n",
       "      <td>{-1: 31471, 0: 5579, 1: 7223, 2: 7017}</td>\n",
       "      <td>4</td>\n",
       "    </tr>\n",
       "  </tbody>\n",
       "</table>\n",
       "</div>"
      ],
      "text/plain": [
       "    eps  min_samples  silhouette_score  davies_bouldin_score  \\\n",
       "3   1.0         1000          0.817302              0.359237   \n",
       "0   0.5         1000          0.791429              0.329758   \n",
       "6   1.5         1000          0.558434              0.431441   \n",
       "10  2.0         5000          0.525874              0.462907   \n",
       "11  2.0        10000          0.487576              1.112057   \n",
       "7   1.5         2000          0.462634              2.193643   \n",
       "4   1.0         2000          0.390366              1.867707   \n",
       "8   1.5         5000          0.365862              3.028379   \n",
       "1   0.5         2000          0.332382              1.555966   \n",
       "9   1.5        10000          0.289141              2.394799   \n",
       "5   1.0         5000          0.205056              2.389518   \n",
       "2   0.5         5000          0.093519              2.533776   \n",
       "\n",
       "                                          cardinality  num_clusters  \n",
       "3   {-1: 635, 0: 1846, 1: 1564, 2: 2388, 3: 2332, ...            19  \n",
       "0   {-1: 4600, 0: 2388, 1: 2332, 2: 1877, 3: 1656,...            17  \n",
       "6   {0: 11197, 1: 1564, 2: 1598, 3: 1656, 4: 1261,...            10  \n",
       "10            {-1: 609, 0: 12853, 1: 18956, 2: 18872}             4  \n",
       "11                    {-1: 18497, 0: 13147, 1: 19646}             3  \n",
       "7   {-1: 7836, 0: 11061, 1: 10584, 2: 2163, 3: 173...             6  \n",
       "4   {-1: 15202, 0: 2388, 1: 2332, 2: 5579, 3: 5005...            10  \n",
       "8            {-1: 15892, 0: 7459, 1: 10584, 2: 17355}             4  \n",
       "1   {-1: 17292, 0: 2388, 1: 2332, 2: 5579, 3: 5005...             9  \n",
       "9                     {-1: 25520, 0: 10584, 1: 15186}             3  \n",
       "5     {-1: 26466, 0: 5579, 1: 5005, 2: 7223, 3: 7017}             5  \n",
       "2              {-1: 31471, 0: 5579, 1: 7223, 2: 7017}             4  "
      ]
     },
     "metadata": {},
     "output_type": "display_data"
    },
    {
     "name": "stdout",
     "output_type": "stream",
     "text": [
      "best_eps: 1.0, best_min_samples: 1000\n"
     ]
    }
   ],
   "source": [
    "df_cluster_dbscan = cluster.modelo_dbscan(df, eps_values=[0.5, 1.0, 1.5, 2.0], min_samples_values=[1000, 2000, 5000, 10000])"
   ]
  },
  {
   "cell_type": "code",
   "execution_count": null,
   "metadata": {},
   "outputs": [],
   "source": []
  }
 ],
 "metadata": {
  "kernelspec": {
   "display_name": "Python 3",
   "language": "python",
   "name": "python3"
  },
  "language_info": {
   "codemirror_mode": {
    "name": "ipython",
    "version": 3
   },
   "file_extension": ".py",
   "mimetype": "text/x-python",
   "name": "python",
   "nbconvert_exporter": "python",
   "pygments_lexer": "ipython3",
   "version": "3.11.9"
  }
 },
 "nbformat": 4,
 "nbformat_minor": 2
}
